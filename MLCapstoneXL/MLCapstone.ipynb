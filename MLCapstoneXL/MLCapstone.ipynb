{
 "cells": [
  {
   "cell_type": "markdown",
   "id": "2b17a8da",
   "metadata": {},
   "source": [
    "Import necessary libraries"
   ]
  },
  {
   "cell_type": "code",
   "execution_count": 1,
   "id": "ac5bbd12",
   "metadata": {},
   "outputs": [],
   "source": [
    "import pandas as pd\n",
    "import numpy as np\n",
    "import seaborn as sns\n",
    "import matplotlib.pyplot as plt \n",
    "from sklearn.preprocessing import StandardScaler\n",
    "from sklearn.model_selection import train_test_split\n",
    "from sklearn.linear_model import LinearRegression\n",
    "from sklearn.preprocessing import LabelEncoder\n",
    "from sklearn import linear_model\n",
    "from sklearn.tree import DecisionTreeRegressor \n",
    "from sklearn.neighbors import KNeighborsRegressor\n",
    "from sklearn.linear_model import Ridge\n"
   ]
  },
  {
   "cell_type": "markdown",
   "id": "34eff9e9",
   "metadata": {},
   "source": [
    "Read in dataset"
   ]
  },
  {
   "cell_type": "code",
   "execution_count": 2,
   "id": "9d840ba8",
   "metadata": {},
   "outputs": [],
   "source": [
    "data = pd.read_csv('cpsaat_2015_2021.csv')\n"
   ]
  },
  {
   "cell_type": "markdown",
   "id": "aacf44eb",
   "metadata": {},
   "source": [
    "Data transformation for modeling"
   ]
  },
  {
   "cell_type": "code",
   "execution_count": 3,
   "id": "8dee370d",
   "metadata": {
    "scrolled": false
   },
   "outputs": [
    {
     "name": "stderr",
     "output_type": "stream",
     "text": [
      "C:\\Users\\RobDewan\\AppData\\Local\\Temp\\ipykernel_12824\\826336969.py:1: FutureWarning: this method is deprecated in favour of `Styler.hide(axis='index')`\n",
      "  data.head(15).style.background_gradient(cmap='Blues').set_properties(**{'font-family': 'Segoe UI'}).hide_index()\n"
     ]
    },
    {
     "data": {
      "text/html": [
       "<style type=\"text/css\">\n",
       "#T_cfc82_row0_col0, #T_cfc82_row0_col1, #T_cfc82_row0_col3, #T_cfc82_row0_col5, #T_cfc82_row0_col7, #T_cfc82_row0_col8, #T_cfc82_row1_col0, #T_cfc82_row1_col1, #T_cfc82_row1_col3, #T_cfc82_row1_col5, #T_cfc82_row1_col7, #T_cfc82_row1_col8, #T_cfc82_row2_col0, #T_cfc82_row2_col1, #T_cfc82_row2_col3, #T_cfc82_row2_col5, #T_cfc82_row2_col7, #T_cfc82_row2_col8, #T_cfc82_row3_col0, #T_cfc82_row3_col1, #T_cfc82_row3_col3, #T_cfc82_row3_col5, #T_cfc82_row3_col7, #T_cfc82_row3_col8, #T_cfc82_row4_col0, #T_cfc82_row4_col1, #T_cfc82_row4_col3, #T_cfc82_row4_col5, #T_cfc82_row4_col7, #T_cfc82_row4_col8, #T_cfc82_row5_col0, #T_cfc82_row5_col1, #T_cfc82_row5_col3, #T_cfc82_row5_col5, #T_cfc82_row5_col7, #T_cfc82_row5_col8, #T_cfc82_row6_col0, #T_cfc82_row6_col1, #T_cfc82_row6_col3, #T_cfc82_row6_col5, #T_cfc82_row6_col7, #T_cfc82_row6_col8, #T_cfc82_row7_col0, #T_cfc82_row7_col1, #T_cfc82_row7_col3, #T_cfc82_row7_col5, #T_cfc82_row7_col7, #T_cfc82_row7_col8, #T_cfc82_row8_col0, #T_cfc82_row8_col1, #T_cfc82_row8_col3, #T_cfc82_row8_col5, #T_cfc82_row8_col7, #T_cfc82_row8_col8, #T_cfc82_row9_col0, #T_cfc82_row9_col1, #T_cfc82_row9_col3, #T_cfc82_row9_col5, #T_cfc82_row9_col7, #T_cfc82_row9_col8, #T_cfc82_row10_col0, #T_cfc82_row10_col1, #T_cfc82_row10_col3, #T_cfc82_row10_col5, #T_cfc82_row10_col7, #T_cfc82_row10_col8, #T_cfc82_row11_col0, #T_cfc82_row11_col1, #T_cfc82_row11_col3, #T_cfc82_row11_col5, #T_cfc82_row11_col7, #T_cfc82_row11_col8, #T_cfc82_row12_col0, #T_cfc82_row12_col1, #T_cfc82_row12_col3, #T_cfc82_row12_col5, #T_cfc82_row12_col7, #T_cfc82_row12_col8, #T_cfc82_row13_col0, #T_cfc82_row13_col1, #T_cfc82_row13_col3, #T_cfc82_row13_col5, #T_cfc82_row13_col7, #T_cfc82_row13_col8, #T_cfc82_row14_col0, #T_cfc82_row14_col1, #T_cfc82_row14_col3, #T_cfc82_row14_col5, #T_cfc82_row14_col7, #T_cfc82_row14_col8 {\n",
       "  font-family: Segoe UI;\n",
       "}\n",
       "#T_cfc82_row0_col2, #T_cfc82_row0_col4, #T_cfc82_row0_col9, #T_cfc82_row1_col9, #T_cfc82_row2_col9, #T_cfc82_row3_col9, #T_cfc82_row4_col9, #T_cfc82_row5_col9, #T_cfc82_row6_col9, #T_cfc82_row7_col6, #T_cfc82_row7_col9, #T_cfc82_row8_col9, #T_cfc82_row9_col9, #T_cfc82_row10_col9, #T_cfc82_row11_col9, #T_cfc82_row12_col9, #T_cfc82_row13_col9, #T_cfc82_row14_col9 {\n",
       "  background-color: #f7fbff;\n",
       "  color: #000000;\n",
       "  font-family: Segoe UI;\n",
       "}\n",
       "#T_cfc82_row0_col6, #T_cfc82_row14_col2, #T_cfc82_row14_col4 {\n",
       "  background-color: #08306b;\n",
       "  color: #f1f1f1;\n",
       "  font-family: Segoe UI;\n",
       "}\n",
       "#T_cfc82_row1_col2, #T_cfc82_row8_col4 {\n",
       "  background-color: #a8cee4;\n",
       "  color: #000000;\n",
       "  font-family: Segoe UI;\n",
       "}\n",
       "#T_cfc82_row1_col4 {\n",
       "  background-color: #a9cfe5;\n",
       "  color: #000000;\n",
       "  font-family: Segoe UI;\n",
       "}\n",
       "#T_cfc82_row1_col6, #T_cfc82_row3_col2 {\n",
       "  background-color: #5aa2cf;\n",
       "  color: #f1f1f1;\n",
       "  font-family: Segoe UI;\n",
       "}\n",
       "#T_cfc82_row2_col2 {\n",
       "  background-color: #4493c7;\n",
       "  color: #f1f1f1;\n",
       "  font-family: Segoe UI;\n",
       "}\n",
       "#T_cfc82_row2_col4, #T_cfc82_row9_col4 {\n",
       "  background-color: #4896c8;\n",
       "  color: #f1f1f1;\n",
       "  font-family: Segoe UI;\n",
       "}\n",
       "#T_cfc82_row2_col6 {\n",
       "  background-color: #95c5df;\n",
       "  color: #000000;\n",
       "  font-family: Segoe UI;\n",
       "}\n",
       "#T_cfc82_row3_col4 {\n",
       "  background-color: #5da5d1;\n",
       "  color: #f1f1f1;\n",
       "  font-family: Segoe UI;\n",
       "}\n",
       "#T_cfc82_row3_col6 {\n",
       "  background-color: #72b2d8;\n",
       "  color: #f1f1f1;\n",
       "  font-family: Segoe UI;\n",
       "}\n",
       "#T_cfc82_row4_col2 {\n",
       "  background-color: #2474b7;\n",
       "  color: #f1f1f1;\n",
       "  font-family: Segoe UI;\n",
       "}\n",
       "#T_cfc82_row4_col4, #T_cfc82_row11_col4 {\n",
       "  background-color: #2676b8;\n",
       "  color: #f1f1f1;\n",
       "  font-family: Segoe UI;\n",
       "}\n",
       "#T_cfc82_row4_col6 {\n",
       "  background-color: #bed8ec;\n",
       "  color: #000000;\n",
       "  font-family: Segoe UI;\n",
       "}\n",
       "#T_cfc82_row5_col2, #T_cfc82_row6_col4 {\n",
       "  background-color: #0e58a2;\n",
       "  color: #f1f1f1;\n",
       "  font-family: Segoe UI;\n",
       "}\n",
       "#T_cfc82_row5_col4 {\n",
       "  background-color: #0b559f;\n",
       "  color: #f1f1f1;\n",
       "  font-family: Segoe UI;\n",
       "}\n",
       "#T_cfc82_row5_col6, #T_cfc82_row14_col6 {\n",
       "  background-color: #eaf2fb;\n",
       "  color: #000000;\n",
       "  font-family: Segoe UI;\n",
       "}\n",
       "#T_cfc82_row6_col2 {\n",
       "  background-color: #0f5aa3;\n",
       "  color: #f1f1f1;\n",
       "  font-family: Segoe UI;\n",
       "}\n",
       "#T_cfc82_row6_col6 {\n",
       "  background-color: #e3eef8;\n",
       "  color: #000000;\n",
       "  font-family: Segoe UI;\n",
       "}\n",
       "#T_cfc82_row7_col2, #T_cfc82_row8_col6 {\n",
       "  background-color: #0a549e;\n",
       "  color: #f1f1f1;\n",
       "  font-family: Segoe UI;\n",
       "}\n",
       "#T_cfc82_row7_col4 {\n",
       "  background-color: #08509b;\n",
       "  color: #f1f1f1;\n",
       "  font-family: Segoe UI;\n",
       "}\n",
       "#T_cfc82_row8_col2 {\n",
       "  background-color: #9dcae1;\n",
       "  color: #000000;\n",
       "  font-family: Segoe UI;\n",
       "}\n",
       "#T_cfc82_row9_col2 {\n",
       "  background-color: #3f8fc5;\n",
       "  color: #f1f1f1;\n",
       "  font-family: Segoe UI;\n",
       "}\n",
       "#T_cfc82_row9_col6 {\n",
       "  background-color: #549fcd;\n",
       "  color: #f1f1f1;\n",
       "  font-family: Segoe UI;\n",
       "}\n",
       "#T_cfc82_row10_col2 {\n",
       "  background-color: #1562a9;\n",
       "  color: #f1f1f1;\n",
       "  font-family: Segoe UI;\n",
       "}\n",
       "#T_cfc82_row10_col4 {\n",
       "  background-color: #1967ad;\n",
       "  color: #f1f1f1;\n",
       "  font-family: Segoe UI;\n",
       "}\n",
       "#T_cfc82_row10_col6 {\n",
       "  background-color: #9cc9e1;\n",
       "  color: #000000;\n",
       "  font-family: Segoe UI;\n",
       "}\n",
       "#T_cfc82_row11_col2 {\n",
       "  background-color: #206fb4;\n",
       "  color: #f1f1f1;\n",
       "  font-family: Segoe UI;\n",
       "}\n",
       "#T_cfc82_row11_col6 {\n",
       "  background-color: #81badb;\n",
       "  color: #000000;\n",
       "  font-family: Segoe UI;\n",
       "}\n",
       "#T_cfc82_row12_col2 {\n",
       "  background-color: #08488e;\n",
       "  color: #f1f1f1;\n",
       "  font-family: Segoe UI;\n",
       "}\n",
       "#T_cfc82_row12_col4 {\n",
       "  background-color: #084c95;\n",
       "  color: #f1f1f1;\n",
       "  font-family: Segoe UI;\n",
       "}\n",
       "#T_cfc82_row12_col6 {\n",
       "  background-color: #c8dcf0;\n",
       "  color: #000000;\n",
       "  font-family: Segoe UI;\n",
       "}\n",
       "#T_cfc82_row13_col2 {\n",
       "  background-color: #083573;\n",
       "  color: #f1f1f1;\n",
       "  font-family: Segoe UI;\n",
       "}\n",
       "#T_cfc82_row13_col4 {\n",
       "  background-color: #083471;\n",
       "  color: #f1f1f1;\n",
       "  font-family: Segoe UI;\n",
       "}\n",
       "#T_cfc82_row13_col6 {\n",
       "  background-color: #edf4fc;\n",
       "  color: #000000;\n",
       "  font-family: Segoe UI;\n",
       "}\n",
       "</style>\n",
       "<table id=\"T_cfc82\">\n",
       "  <thead>\n",
       "    <tr>\n",
       "      <th id=\"T_cfc82_level0_col0\" class=\"col_heading level0 col0\" >Civilian noninstitutional population</th>\n",
       "      <th id=\"T_cfc82_level0_col1\" class=\"col_heading level0 col1\" >Civilian labor force</th>\n",
       "      <th id=\"T_cfc82_level0_col2\" class=\"col_heading level0 col2\" >Participation rate</th>\n",
       "      <th id=\"T_cfc82_level0_col3\" class=\"col_heading level0 col3\" >Employed</th>\n",
       "      <th id=\"T_cfc82_level0_col4\" class=\"col_heading level0 col4\" >Employment-population ratio</th>\n",
       "      <th id=\"T_cfc82_level0_col5\" class=\"col_heading level0 col5\" >Unemployed</th>\n",
       "      <th id=\"T_cfc82_level0_col6\" class=\"col_heading level0 col6\" >Unemployment rate</th>\n",
       "      <th id=\"T_cfc82_level0_col7\" class=\"col_heading level0 col7\" >Sex</th>\n",
       "      <th id=\"T_cfc82_level0_col8\" class=\"col_heading level0 col8\" >Race</th>\n",
       "      <th id=\"T_cfc82_level0_col9\" class=\"col_heading level0 col9\" >Year</th>\n",
       "    </tr>\n",
       "  </thead>\n",
       "  <tbody>\n",
       "    <tr>\n",
       "      <td id=\"T_cfc82_row0_col0\" class=\"data row0 col0\" >24,175</td>\n",
       "      <td id=\"T_cfc82_row0_col1\" class=\"data row0 col1\" >10,971</td>\n",
       "      <td id=\"T_cfc82_row0_col2\" class=\"data row0 col2\" >45.400000</td>\n",
       "      <td id=\"T_cfc82_row0_col3\" class=\"data row0 col3\" >10,098</td>\n",
       "      <td id=\"T_cfc82_row0_col4\" class=\"data row0 col4\" >41.800000</td>\n",
       "      <td id=\"T_cfc82_row0_col5\" class=\"data row0 col5\" >873</td>\n",
       "      <td id=\"T_cfc82_row0_col6\" class=\"data row0 col6\" >8.000000</td>\n",
       "      <td id=\"T_cfc82_row0_col7\" class=\"data row0 col7\" >nan</td>\n",
       "      <td id=\"T_cfc82_row0_col8\" class=\"data row0 col8\" >nan</td>\n",
       "      <td id=\"T_cfc82_row0_col9\" class=\"data row0 col9\" >2015</td>\n",
       "    </tr>\n",
       "    <tr>\n",
       "      <td id=\"T_cfc82_row1_col0\" class=\"data row1 col0\" >61,712</td>\n",
       "      <td id=\"T_cfc82_row1_col1\" class=\"data row1 col1\" >35,322</td>\n",
       "      <td id=\"T_cfc82_row1_col2\" class=\"data row1 col2\" >57.200000</td>\n",
       "      <td id=\"T_cfc82_row1_col3\" class=\"data row1 col3\" >33,402</td>\n",
       "      <td id=\"T_cfc82_row1_col4\" class=\"data row1 col4\" >54.100000</td>\n",
       "      <td id=\"T_cfc82_row1_col5\" class=\"data row1 col5\" >1,920</td>\n",
       "      <td id=\"T_cfc82_row1_col6\" class=\"data row1 col6\" >5.400000</td>\n",
       "      <td id=\"T_cfc82_row1_col7\" class=\"data row1 col7\" >nan</td>\n",
       "      <td id=\"T_cfc82_row1_col8\" class=\"data row1 col8\" >nan</td>\n",
       "      <td id=\"T_cfc82_row1_col9\" class=\"data row1 col9\" >2015</td>\n",
       "    </tr>\n",
       "    <tr>\n",
       "      <td id=\"T_cfc82_row2_col0\" class=\"data row2 col0\" >56,263</td>\n",
       "      <td id=\"T_cfc82_row2_col1\" class=\"data row2 col1\" >37,481</td>\n",
       "      <td id=\"T_cfc82_row2_col2\" class=\"data row2 col2\" >66.600000</td>\n",
       "      <td id=\"T_cfc82_row2_col3\" class=\"data row2 col3\" >35,785</td>\n",
       "      <td id=\"T_cfc82_row2_col4\" class=\"data row2 col4\" >63.600000</td>\n",
       "      <td id=\"T_cfc82_row2_col5\" class=\"data row2 col5\" >1,695</td>\n",
       "      <td id=\"T_cfc82_row2_col6\" class=\"data row2 col6\" >4.500000</td>\n",
       "      <td id=\"T_cfc82_row2_col7\" class=\"data row2 col7\" >nan</td>\n",
       "      <td id=\"T_cfc82_row2_col8\" class=\"data row2 col8\" >nan</td>\n",
       "      <td id=\"T_cfc82_row2_col9\" class=\"data row2 col9\" >2015</td>\n",
       "    </tr>\n",
       "    <tr>\n",
       "      <td id=\"T_cfc82_row3_col0\" class=\"data row3 col0\" >35,326</td>\n",
       "      <td id=\"T_cfc82_row3_col1\" class=\"data row3 col1\" >22,706</td>\n",
       "      <td id=\"T_cfc82_row3_col2\" class=\"data row3 col2\" >64.300000</td>\n",
       "      <td id=\"T_cfc82_row3_col3\" class=\"data row3 col3\" >21,573</td>\n",
       "      <td id=\"T_cfc82_row3_col4\" class=\"data row3 col4\" >61.100000</td>\n",
       "      <td id=\"T_cfc82_row3_col5\" class=\"data row3 col5\" >1,134</td>\n",
       "      <td id=\"T_cfc82_row3_col6\" class=\"data row3 col6\" >5.000000</td>\n",
       "      <td id=\"T_cfc82_row3_col7\" class=\"data row3 col7\" >nan</td>\n",
       "      <td id=\"T_cfc82_row3_col8\" class=\"data row3 col8\" >nan</td>\n",
       "      <td id=\"T_cfc82_row3_col9\" class=\"data row3 col9\" >2015</td>\n",
       "    </tr>\n",
       "    <tr>\n",
       "      <td id=\"T_cfc82_row4_col0\" class=\"data row4 col0\" >20,937</td>\n",
       "      <td id=\"T_cfc82_row4_col1\" class=\"data row4 col1\" >14,774</td>\n",
       "      <td id=\"T_cfc82_row4_col2\" class=\"data row4 col2\" >70.600000</td>\n",
       "      <td id=\"T_cfc82_row4_col3\" class=\"data row4 col3\" >14,213</td>\n",
       "      <td id=\"T_cfc82_row4_col4\" class=\"data row4 col4\" >67.900000</td>\n",
       "      <td id=\"T_cfc82_row4_col5\" class=\"data row4 col5\" >562</td>\n",
       "      <td id=\"T_cfc82_row4_col6\" class=\"data row4 col6\" >3.800000</td>\n",
       "      <td id=\"T_cfc82_row4_col7\" class=\"data row4 col7\" >nan</td>\n",
       "      <td id=\"T_cfc82_row4_col8\" class=\"data row4 col8\" >nan</td>\n",
       "      <td id=\"T_cfc82_row4_col9\" class=\"data row4 col9\" >2015</td>\n",
       "    </tr>\n",
       "    <tr>\n",
       "      <td id=\"T_cfc82_row5_col0\" class=\"data row5 col0\" >70,061</td>\n",
       "      <td id=\"T_cfc82_row5_col1\" class=\"data row5 col1\" >52,133</td>\n",
       "      <td id=\"T_cfc82_row5_col2\" class=\"data row5 col2\" >74.400000</td>\n",
       "      <td id=\"T_cfc82_row5_col3\" class=\"data row5 col3\" >50,792</td>\n",
       "      <td id=\"T_cfc82_row5_col4\" class=\"data row5 col4\" >72.500000</td>\n",
       "      <td id=\"T_cfc82_row5_col5\" class=\"data row5 col5\" >1,341</td>\n",
       "      <td id=\"T_cfc82_row5_col6\" class=\"data row5 col6\" >2.600000</td>\n",
       "      <td id=\"T_cfc82_row5_col7\" class=\"data row5 col7\" >nan</td>\n",
       "      <td id=\"T_cfc82_row5_col8\" class=\"data row5 col8\" >nan</td>\n",
       "      <td id=\"T_cfc82_row5_col9\" class=\"data row5 col9\" >2015</td>\n",
       "    </tr>\n",
       "    <tr>\n",
       "      <td id=\"T_cfc82_row6_col0\" class=\"data row6 col0\" >44,086</td>\n",
       "      <td id=\"T_cfc82_row6_col1\" class=\"data row6 col1\" >32,684</td>\n",
       "      <td id=\"T_cfc82_row6_col2\" class=\"data row6 col2\" >74.100000</td>\n",
       "      <td id=\"T_cfc82_row6_col3\" class=\"data row6 col3\" >31,772</td>\n",
       "      <td id=\"T_cfc82_row6_col4\" class=\"data row6 col4\" >72.100000</td>\n",
       "      <td id=\"T_cfc82_row6_col5\" class=\"data row6 col5\" >912</td>\n",
       "      <td id=\"T_cfc82_row6_col6\" class=\"data row6 col6\" >2.800000</td>\n",
       "      <td id=\"T_cfc82_row6_col7\" class=\"data row6 col7\" >nan</td>\n",
       "      <td id=\"T_cfc82_row6_col8\" class=\"data row6 col8\" >nan</td>\n",
       "      <td id=\"T_cfc82_row6_col9\" class=\"data row6 col9\" >2015</td>\n",
       "    </tr>\n",
       "    <tr>\n",
       "      <td id=\"T_cfc82_row7_col0\" class=\"data row7 col0\" >25,975</td>\n",
       "      <td id=\"T_cfc82_row7_col1\" class=\"data row7 col1\" >19,449</td>\n",
       "      <td id=\"T_cfc82_row7_col2\" class=\"data row7 col2\" >74.900000</td>\n",
       "      <td id=\"T_cfc82_row7_col3\" class=\"data row7 col3\" >19,020</td>\n",
       "      <td id=\"T_cfc82_row7_col4\" class=\"data row7 col4\" >73.200000</td>\n",
       "      <td id=\"T_cfc82_row7_col5\" class=\"data row7 col5\" >429</td>\n",
       "      <td id=\"T_cfc82_row7_col6\" class=\"data row7 col6\" >2.200000</td>\n",
       "      <td id=\"T_cfc82_row7_col7\" class=\"data row7 col7\" >nan</td>\n",
       "      <td id=\"T_cfc82_row7_col8\" class=\"data row7 col8\" >nan</td>\n",
       "      <td id=\"T_cfc82_row7_col9\" class=\"data row7 col9\" >2015</td>\n",
       "    </tr>\n",
       "    <tr>\n",
       "      <td id=\"T_cfc82_row8_col0\" class=\"data row8 col0\" >12,137</td>\n",
       "      <td id=\"T_cfc82_row8_col1\" class=\"data row8 col1\" >7,081</td>\n",
       "      <td id=\"T_cfc82_row8_col2\" class=\"data row8 col2\" >58.300000</td>\n",
       "      <td id=\"T_cfc82_row8_col3\" class=\"data row8 col3\" >6,573</td>\n",
       "      <td id=\"T_cfc82_row8_col4\" class=\"data row8 col4\" >54.200000</td>\n",
       "      <td id=\"T_cfc82_row8_col5\" class=\"data row8 col5\" >507</td>\n",
       "      <td id=\"T_cfc82_row8_col6\" class=\"data row8 col6\" >7.200000</td>\n",
       "      <td id=\"T_cfc82_row8_col7\" class=\"data row8 col7\" >Men</td>\n",
       "      <td id=\"T_cfc82_row8_col8\" class=\"data row8 col8\" >nan</td>\n",
       "      <td id=\"T_cfc82_row8_col9\" class=\"data row8 col9\" >2015</td>\n",
       "    </tr>\n",
       "    <tr>\n",
       "      <td id=\"T_cfc82_row9_col0\" class=\"data row9 col0\" >30,388</td>\n",
       "      <td id=\"T_cfc82_row9_col1\" class=\"data row9 col1\" >20,416</td>\n",
       "      <td id=\"T_cfc82_row9_col2\" class=\"data row9 col2\" >67.200000</td>\n",
       "      <td id=\"T_cfc82_row9_col3\" class=\"data row9 col3\" >19,302</td>\n",
       "      <td id=\"T_cfc82_row9_col4\" class=\"data row9 col4\" >63.500000</td>\n",
       "      <td id=\"T_cfc82_row9_col5\" class=\"data row9 col5\" >1,114</td>\n",
       "      <td id=\"T_cfc82_row9_col6\" class=\"data row9 col6\" >5.500000</td>\n",
       "      <td id=\"T_cfc82_row9_col7\" class=\"data row9 col7\" >Men</td>\n",
       "      <td id=\"T_cfc82_row9_col8\" class=\"data row9 col8\" >nan</td>\n",
       "      <td id=\"T_cfc82_row9_col9\" class=\"data row9 col9\" >2015</td>\n",
       "    </tr>\n",
       "    <tr>\n",
       "      <td id=\"T_cfc82_row10_col0\" class=\"data row10 col0\" >25,664</td>\n",
       "      <td id=\"T_cfc82_row10_col1\" class=\"data row10 col1\" >18,772</td>\n",
       "      <td id=\"T_cfc82_row10_col2\" class=\"data row10 col2\" >73.100000</td>\n",
       "      <td id=\"T_cfc82_row10_col3\" class=\"data row10 col3\" >17,953</td>\n",
       "      <td id=\"T_cfc82_row10_col4\" class=\"data row10 col4\" >70.000000</td>\n",
       "      <td id=\"T_cfc82_row10_col5\" class=\"data row10 col5\" >820</td>\n",
       "      <td id=\"T_cfc82_row10_col6\" class=\"data row10 col6\" >4.400000</td>\n",
       "      <td id=\"T_cfc82_row10_col7\" class=\"data row10 col7\" >Men</td>\n",
       "      <td id=\"T_cfc82_row10_col8\" class=\"data row10 col8\" >nan</td>\n",
       "      <td id=\"T_cfc82_row10_col9\" class=\"data row10 col9\" >2015</td>\n",
       "    </tr>\n",
       "    <tr>\n",
       "      <td id=\"T_cfc82_row11_col0\" class=\"data row11 col0\" >16,644</td>\n",
       "      <td id=\"T_cfc82_row11_col1\" class=\"data row11 col1\" >11,862</td>\n",
       "      <td id=\"T_cfc82_row11_col2\" class=\"data row11 col2\" >71.300000</td>\n",
       "      <td id=\"T_cfc82_row11_col3\" class=\"data row11 col3\" >11,293</td>\n",
       "      <td id=\"T_cfc82_row11_col4\" class=\"data row11 col4\" >67.900000</td>\n",
       "      <td id=\"T_cfc82_row11_col5\" class=\"data row11 col5\" >569</td>\n",
       "      <td id=\"T_cfc82_row11_col6\" class=\"data row11 col6\" >4.800000</td>\n",
       "      <td id=\"T_cfc82_row11_col7\" class=\"data row11 col7\" >Men</td>\n",
       "      <td id=\"T_cfc82_row11_col8\" class=\"data row11 col8\" >nan</td>\n",
       "      <td id=\"T_cfc82_row11_col9\" class=\"data row11 col9\" >2015</td>\n",
       "    </tr>\n",
       "    <tr>\n",
       "      <td id=\"T_cfc82_row12_col0\" class=\"data row12 col0\" >9,020</td>\n",
       "      <td id=\"T_cfc82_row12_col1\" class=\"data row12 col1\" >6,911</td>\n",
       "      <td id=\"T_cfc82_row12_col2\" class=\"data row12 col2\" >76.600000</td>\n",
       "      <td id=\"T_cfc82_row12_col3\" class=\"data row12 col3\" >6,660</td>\n",
       "      <td id=\"T_cfc82_row12_col4\" class=\"data row12 col4\" >73.800000</td>\n",
       "      <td id=\"T_cfc82_row12_col5\" class=\"data row12 col5\" >251</td>\n",
       "      <td id=\"T_cfc82_row12_col6\" class=\"data row12 col6\" >3.600000</td>\n",
       "      <td id=\"T_cfc82_row12_col7\" class=\"data row12 col7\" >Men</td>\n",
       "      <td id=\"T_cfc82_row12_col8\" class=\"data row12 col8\" >nan</td>\n",
       "      <td id=\"T_cfc82_row12_col9\" class=\"data row12 col9\" >2015</td>\n",
       "    </tr>\n",
       "    <tr>\n",
       "      <td id=\"T_cfc82_row13_col0\" class=\"data row13 col0\" >33,471</td>\n",
       "      <td id=\"T_cfc82_row13_col1\" class=\"data row13 col1\" >26,429</td>\n",
       "      <td id=\"T_cfc82_row13_col2\" class=\"data row13 col2\" >79.000000</td>\n",
       "      <td id=\"T_cfc82_row13_col3\" class=\"data row13 col3\" >25,776</td>\n",
       "      <td id=\"T_cfc82_row13_col4\" class=\"data row13 col4\" >77.000000</td>\n",
       "      <td id=\"T_cfc82_row13_col5\" class=\"data row13 col5\" >654</td>\n",
       "      <td id=\"T_cfc82_row13_col6\" class=\"data row13 col6\" >2.500000</td>\n",
       "      <td id=\"T_cfc82_row13_col7\" class=\"data row13 col7\" >Men</td>\n",
       "      <td id=\"T_cfc82_row13_col8\" class=\"data row13 col8\" >nan</td>\n",
       "      <td id=\"T_cfc82_row13_col9\" class=\"data row13 col9\" >2015</td>\n",
       "    </tr>\n",
       "    <tr>\n",
       "      <td id=\"T_cfc82_row14_col0\" class=\"data row14 col0\" >21,048</td>\n",
       "      <td id=\"T_cfc82_row14_col1\" class=\"data row14 col1\" >16,767</td>\n",
       "      <td id=\"T_cfc82_row14_col2\" class=\"data row14 col2\" >79.700000</td>\n",
       "      <td id=\"T_cfc82_row14_col3\" class=\"data row14 col3\" >16,323</td>\n",
       "      <td id=\"T_cfc82_row14_col4\" class=\"data row14 col4\" >77.600000</td>\n",
       "      <td id=\"T_cfc82_row14_col5\" class=\"data row14 col5\" >444</td>\n",
       "      <td id=\"T_cfc82_row14_col6\" class=\"data row14 col6\" >2.600000</td>\n",
       "      <td id=\"T_cfc82_row14_col7\" class=\"data row14 col7\" >Men</td>\n",
       "      <td id=\"T_cfc82_row14_col8\" class=\"data row14 col8\" >nan</td>\n",
       "      <td id=\"T_cfc82_row14_col9\" class=\"data row14 col9\" >2015</td>\n",
       "    </tr>\n",
       "  </tbody>\n",
       "</table>\n"
      ],
      "text/plain": [
       "<pandas.io.formats.style.Styler at 0x2020bb75f40>"
      ]
     },
     "execution_count": 3,
     "metadata": {},
     "output_type": "execute_result"
    }
   ],
   "source": [
    "data.head(15).style.background_gradient(cmap='Blues').set_properties(**{'font-family': 'Segoe UI'}).hide_index()"
   ]
  },
  {
   "cell_type": "code",
   "execution_count": 4,
   "id": "ddd65d64",
   "metadata": {},
   "outputs": [
    {
     "data": {
      "text/plain": [
       "(392, 10)"
      ]
     },
     "execution_count": 4,
     "metadata": {},
     "output_type": "execute_result"
    }
   ],
   "source": [
    "data.shape"
   ]
  },
  {
   "cell_type": "code",
   "execution_count": 5,
   "id": "5cd17fb1",
   "metadata": {},
   "outputs": [
    {
     "data": {
      "text/html": [
       "<div>\n",
       "<style scoped>\n",
       "    .dataframe tbody tr th:only-of-type {\n",
       "        vertical-align: middle;\n",
       "    }\n",
       "\n",
       "    .dataframe tbody tr th {\n",
       "        vertical-align: top;\n",
       "    }\n",
       "\n",
       "    .dataframe thead th {\n",
       "        text-align: right;\n",
       "    }\n",
       "</style>\n",
       "<table border=\"1\" class=\"dataframe\">\n",
       "  <thead>\n",
       "    <tr style=\"text-align: right;\">\n",
       "      <th></th>\n",
       "      <th>Participation rate</th>\n",
       "      <th>Employment-population ratio</th>\n",
       "      <th>Unemployment rate</th>\n",
       "      <th>Year</th>\n",
       "    </tr>\n",
       "  </thead>\n",
       "  <tbody>\n",
       "    <tr>\n",
       "      <th>count</th>\n",
       "      <td>392.000000</td>\n",
       "      <td>392.000000</td>\n",
       "      <td>392.000000</td>\n",
       "      <td>392.000000</td>\n",
       "    </tr>\n",
       "    <tr>\n",
       "      <th>mean</th>\n",
       "      <td>66.596173</td>\n",
       "      <td>63.677296</td>\n",
       "      <td>4.653061</td>\n",
       "      <td>2018.000000</td>\n",
       "    </tr>\n",
       "    <tr>\n",
       "      <th>std</th>\n",
       "      <td>11.037426</td>\n",
       "      <td>11.425293</td>\n",
       "      <td>2.613949</td>\n",
       "      <td>2.002556</td>\n",
       "    </tr>\n",
       "    <tr>\n",
       "      <th>min</th>\n",
       "      <td>32.300000</td>\n",
       "      <td>28.200000</td>\n",
       "      <td>1.700000</td>\n",
       "      <td>2015.000000</td>\n",
       "    </tr>\n",
       "    <tr>\n",
       "      <th>25%</th>\n",
       "      <td>60.775000</td>\n",
       "      <td>57.550000</td>\n",
       "      <td>2.800000</td>\n",
       "      <td>2016.000000</td>\n",
       "    </tr>\n",
       "    <tr>\n",
       "      <th>50%</th>\n",
       "      <td>69.600000</td>\n",
       "      <td>66.900000</td>\n",
       "      <td>3.900000</td>\n",
       "      <td>2018.000000</td>\n",
       "    </tr>\n",
       "    <tr>\n",
       "      <th>75%</th>\n",
       "      <td>74.125000</td>\n",
       "      <td>72.025000</td>\n",
       "      <td>5.625000</td>\n",
       "      <td>2020.000000</td>\n",
       "    </tr>\n",
       "    <tr>\n",
       "      <th>max</th>\n",
       "      <td>81.800000</td>\n",
       "      <td>80.200000</td>\n",
       "      <td>16.600000</td>\n",
       "      <td>2021.000000</td>\n",
       "    </tr>\n",
       "  </tbody>\n",
       "</table>\n",
       "</div>"
      ],
      "text/plain": [
       "       Participation rate  Employment-population ratio  Unemployment rate  \\\n",
       "count          392.000000                   392.000000         392.000000   \n",
       "mean            66.596173                    63.677296           4.653061   \n",
       "std             11.037426                    11.425293           2.613949   \n",
       "min             32.300000                    28.200000           1.700000   \n",
       "25%             60.775000                    57.550000           2.800000   \n",
       "50%             69.600000                    66.900000           3.900000   \n",
       "75%             74.125000                    72.025000           5.625000   \n",
       "max             81.800000                    80.200000          16.600000   \n",
       "\n",
       "              Year  \n",
       "count   392.000000  \n",
       "mean   2018.000000  \n",
       "std       2.002556  \n",
       "min    2015.000000  \n",
       "25%    2016.000000  \n",
       "50%    2018.000000  \n",
       "75%    2020.000000  \n",
       "max    2021.000000  "
      ]
     },
     "execution_count": 5,
     "metadata": {},
     "output_type": "execute_result"
    }
   ],
   "source": [
    "data.describe()"
   ]
  },
  {
   "cell_type": "code",
   "execution_count": 6,
   "id": "1dac0729",
   "metadata": {},
   "outputs": [
    {
     "data": {
      "text/plain": [
       "Civilian noninstitutional population      0\n",
       "Civilian labor force                      0\n",
       "Participation rate                        0\n",
       "Employed                                  0\n",
       "Employment-population ratio               0\n",
       "Unemployed                                0\n",
       "Unemployment rate                         0\n",
       "Sex                                     280\n",
       "Race                                    168\n",
       "Year                                      0\n",
       "dtype: int64"
      ]
     },
     "execution_count": 6,
     "metadata": {},
     "output_type": "execute_result"
    }
   ],
   "source": [
    "data.isnull().sum()"
   ]
  },
  {
   "cell_type": "code",
   "execution_count": 7,
   "id": "b633ff1e",
   "metadata": {},
   "outputs": [],
   "source": [
    "data = data.drop(['Sex'], axis = 1)"
   ]
  },
  {
   "cell_type": "code",
   "execution_count": 8,
   "id": "b4e648e8",
   "metadata": {},
   "outputs": [
    {
     "data": {
      "text/plain": [
       "Civilian noninstitutional population      0\n",
       "Civilian labor force                      0\n",
       "Participation rate                        0\n",
       "Employed                                  0\n",
       "Employment-population ratio               0\n",
       "Unemployed                                0\n",
       "Unemployment rate                         0\n",
       "Race                                    168\n",
       "Year                                      0\n",
       "dtype: int64"
      ]
     },
     "execution_count": 8,
     "metadata": {},
     "output_type": "execute_result"
    }
   ],
   "source": [
    "data.isnull().sum()"
   ]
  },
  {
   "cell_type": "code",
   "execution_count": 9,
   "id": "10eb7ba8",
   "metadata": {},
   "outputs": [
    {
     "data": {
      "text/plain": [
       "White                           56\n",
       "Black or African American       56\n",
       "Asian                           56\n",
       "Hispanic or Latino ethnicity    56\n",
       "Name: Race, dtype: int64"
      ]
     },
     "execution_count": 9,
     "metadata": {},
     "output_type": "execute_result"
    }
   ],
   "source": [
    "data['Race'].value_counts()"
   ]
  },
  {
   "cell_type": "code",
   "execution_count": 10,
   "id": "cb9d1550",
   "metadata": {},
   "outputs": [
    {
     "data": {
      "image/png": "[encoded data removed]",
      "text/plain": [
       "<Figure size 1400x1000 with 2 Axes>"
      ]
     },
     "metadata": {},
     "output_type": "display_data"
    }
   ],
   "source": [
    "plt.figure(figsize= (14,10))\n",
    "\n",
    "corr = data.corr()\n",
    "\n",
    "mask = np.zeros_like(corr)\n",
    "mask[np.triu_indices_from(mask)] = True\n",
    "\n",
    "\n",
    "\n",
    "sns.heatmap(data = corr,\n",
    "            annot = True,\n",
    "            mask = mask,\n",
    "            cmap = \"YlGnBu\",\n",
    "            vmin = -1,\n",
    "            vmax = 1);"
   ]
  },
  {
   "cell_type": "code",
   "execution_count": 11,
   "id": "cebba0e4",
   "metadata": {},
   "outputs": [
    {
     "name": "stdout",
     "output_type": "stream",
     "text": [
      "<class 'pandas.core.frame.DataFrame'>\n",
      "RangeIndex: 392 entries, 0 to 391\n",
      "Data columns (total 9 columns):\n",
      " #   Column                                Non-Null Count  Dtype  \n",
      "---  ------                                --------------  -----  \n",
      " 0   Civilian noninstitutional population  392 non-null    object \n",
      " 1   Civilian labor force                  392 non-null    object \n",
      " 2   Participation rate                    392 non-null    float64\n",
      " 3   Employed                              392 non-null    object \n",
      " 4   Employment-population ratio           392 non-null    float64\n",
      " 5   Unemployed                            392 non-null    object \n",
      " 6   Unemployment rate                     392 non-null    float64\n",
      " 7   Race                                  224 non-null    object \n",
      " 8   Year                                  392 non-null    int64  \n",
      "dtypes: float64(3), int64(1), object(5)\n",
      "memory usage: 27.7+ KB\n"
     ]
    }
   ],
   "source": [
    "data.info()"
   ]
  },
  {
   "cell_type": "code",
   "execution_count": 12,
   "id": "9a382437",
   "metadata": {},
   "outputs": [
    {
     "data": {
      "text/plain": [
       "0      24175\n",
       "1      61712\n",
       "2      56263\n",
       "3      35326\n",
       "4      20937\n",
       "       ...  \n",
       "387     4761\n",
       "388     3090\n",
       "389     7432\n",
       "390     5174\n",
       "391     2259\n",
       "Name: Civilian noninstitutional population, Length: 392, dtype: object"
      ]
     },
     "execution_count": 12,
     "metadata": {},
     "output_type": "execute_result"
    }
   ],
   "source": [
    "data['Civilian noninstitutional population'] = data['Civilian noninstitutional population'].str.replace(',', '')\n",
    "data['Civilian noninstitutional population']"
   ]
  },
  {
   "cell_type": "code",
   "execution_count": 13,
   "id": "c4cb8b82",
   "metadata": {},
   "outputs": [
    {
     "data": {
      "text/plain": [
       "0      10971\n",
       "1      35322\n",
       "2      37481\n",
       "3      22706\n",
       "4      14774\n",
       "       ...  \n",
       "387     3384\n",
       "388     2270\n",
       "389     5880\n",
       "390     4064\n",
       "391     1816\n",
       "Name: Civilian labor force, Length: 392, dtype: object"
      ]
     },
     "execution_count": 13,
     "metadata": {},
     "output_type": "execute_result"
    }
   ],
   "source": [
    "data['Civilian labor force'] = data['Civilian labor force'].str.replace(',', '')\n",
    "data['Civilian labor force']"
   ]
  },
  {
   "cell_type": "code",
   "execution_count": 14,
   "id": "8bff3009",
   "metadata": {},
   "outputs": [
    {
     "data": {
      "text/plain": [
       "0      10098\n",
       "1      33402\n",
       "2      35785\n",
       "3      21573\n",
       "4      14213\n",
       "       ...  \n",
       "387     3175\n",
       "388     2134\n",
       "389     5652\n",
       "390     3888\n",
       "391     1764\n",
       "Name: Employed, Length: 392, dtype: object"
      ]
     },
     "execution_count": 14,
     "metadata": {},
     "output_type": "execute_result"
    }
   ],
   "source": [
    "data['Employed'] = data['Employed'].str.replace(',', '')\n",
    "data['Employed']"
   ]
  },
  {
   "cell_type": "code",
   "execution_count": 15,
   "id": "2196b248",
   "metadata": {},
   "outputs": [
    {
     "data": {
      "text/plain": [
       "0       873\n",
       "1      1920\n",
       "2      1695\n",
       "3      1134\n",
       "4       562\n",
       "       ... \n",
       "387     209\n",
       "388     137\n",
       "389     228\n",
       "390     176\n",
       "391      53\n",
       "Name: Unemployed, Length: 392, dtype: object"
      ]
     },
     "execution_count": 15,
     "metadata": {},
     "output_type": "execute_result"
    }
   ],
   "source": [
    "data['Unemployed'] = data['Unemployed'].str.replace(',', '')\n",
    "data['Unemployed']"
   ]
  },
  {
   "cell_type": "code",
   "execution_count": 16,
   "id": "9682051f",
   "metadata": {},
   "outputs": [],
   "source": [
    "data['Participation rate'] = data['Participation rate'].astype(str).astype(float)"
   ]
  },
  {
   "cell_type": "code",
   "execution_count": 17,
   "id": "f91c0d88",
   "metadata": {},
   "outputs": [],
   "source": [
    "data['Civilian labor force'] = data['Civilian labor force'].astype(str).astype(int)\n",
    "data['Civilian noninstitutional population'] = data['Civilian noninstitutional population'].astype(str).astype(int)\n",
    "data['Employed'] = data['Employed'].astype(str).astype(int)\n",
    "data['Unemployed'] = data['Unemployed'].astype(str).astype(int)"
   ]
  },
  {
   "cell_type": "code",
   "execution_count": 18,
   "id": "352ff4eb",
   "metadata": {},
   "outputs": [
    {
     "name": "stdout",
     "output_type": "stream",
     "text": [
      "<class 'pandas.core.frame.DataFrame'>\n",
      "RangeIndex: 392 entries, 0 to 391\n",
      "Data columns (total 9 columns):\n",
      " #   Column                                Non-Null Count  Dtype  \n",
      "---  ------                                --------------  -----  \n",
      " 0   Civilian noninstitutional population  392 non-null    int32  \n",
      " 1   Civilian labor force                  392 non-null    int32  \n",
      " 2   Participation rate                    392 non-null    float64\n",
      " 3   Employed                              392 non-null    int32  \n",
      " 4   Employment-population ratio           392 non-null    float64\n",
      " 5   Unemployed                            392 non-null    int32  \n",
      " 6   Unemployment rate                     392 non-null    float64\n",
      " 7   Race                                  224 non-null    object \n",
      " 8   Year                                  392 non-null    int64  \n",
      "dtypes: float64(3), int32(4), int64(1), object(1)\n",
      "memory usage: 21.6+ KB\n"
     ]
    }
   ],
   "source": [
    "data.info()"
   ]
  },
  {
   "cell_type": "code",
   "execution_count": 19,
   "id": "24f218d4",
   "metadata": {},
   "outputs": [
    {
     "data": {
      "image/png": "[encoded data removed]",
      "text/plain": [
       "<Figure size 1400x1000 with 2 Axes>"
      ]
     },
     "metadata": {},
     "output_type": "display_data"
    }
   ],
   "source": [
    "plt.figure(figsize= (14,10))\n",
    "\n",
    "corr = data.corr()\n",
    "\n",
    "mask = np.zeros_like(corr)\n",
    "mask[np.triu_indices_from(mask)] = True\n",
    "\n",
    "\n",
    "\n",
    "sns.heatmap(data = corr,\n",
    "            annot = True,\n",
    "            mask = mask,\n",
    "            cmap = \"YlGnBu\",\n",
    "            vmin = -1,\n",
    "            vmax = 1);"
   ]
  },
  {
   "cell_type": "code",
   "execution_count": 20,
   "id": "4f94d8a2",
   "metadata": {},
   "outputs": [],
   "source": [
    "dummy_data = pd.get_dummies(data, columns= ['Race'])"
   ]
  },
  {
   "cell_type": "code",
   "execution_count": 21,
   "id": "5e4dfa4c",
   "metadata": {},
   "outputs": [
    {
     "data": {
      "text/html": [
       "<div>\n",
       "<style scoped>\n",
       "    .dataframe tbody tr th:only-of-type {\n",
       "        vertical-align: middle;\n",
       "    }\n",
       "\n",
       "    .dataframe tbody tr th {\n",
       "        vertical-align: top;\n",
       "    }\n",
       "\n",
       "    .dataframe thead th {\n",
       "        text-align: right;\n",
       "    }\n",
       "</style>\n",
       "<table border=\"1\" class=\"dataframe\">\n",
       "  <thead>\n",
       "    <tr style=\"text-align: right;\">\n",
       "      <th></th>\n",
       "      <th>Civilian noninstitutional population</th>\n",
       "      <th>Civilian labor force</th>\n",
       "      <th>Participation rate</th>\n",
       "      <th>Employed</th>\n",
       "      <th>Employment-population ratio</th>\n",
       "      <th>Unemployed</th>\n",
       "      <th>Unemployment rate</th>\n",
       "      <th>Race</th>\n",
       "      <th>Year</th>\n",
       "      <th>Civilian noninstitutional population</th>\n",
       "      <th>...</th>\n",
       "      <th>Participation rate</th>\n",
       "      <th>Employed</th>\n",
       "      <th>Employment-population ratio</th>\n",
       "      <th>Unemployed</th>\n",
       "      <th>Unemployment rate</th>\n",
       "      <th>Year</th>\n",
       "      <th>Race_Asian</th>\n",
       "      <th>Race_Black or African American</th>\n",
       "      <th>Race_Hispanic or Latino ethnicity</th>\n",
       "      <th>Race_White</th>\n",
       "    </tr>\n",
       "  </thead>\n",
       "  <tbody>\n",
       "    <tr>\n",
       "      <th>0</th>\n",
       "      <td>24175</td>\n",
       "      <td>10971</td>\n",
       "      <td>45.4</td>\n",
       "      <td>10098</td>\n",
       "      <td>41.8</td>\n",
       "      <td>873</td>\n",
       "      <td>8.0</td>\n",
       "      <td>NaN</td>\n",
       "      <td>2015</td>\n",
       "      <td>24175</td>\n",
       "      <td>...</td>\n",
       "      <td>45.4</td>\n",
       "      <td>10098</td>\n",
       "      <td>41.8</td>\n",
       "      <td>873</td>\n",
       "      <td>8.0</td>\n",
       "      <td>2015</td>\n",
       "      <td>0</td>\n",
       "      <td>0</td>\n",
       "      <td>0</td>\n",
       "      <td>0</td>\n",
       "    </tr>\n",
       "    <tr>\n",
       "      <th>1</th>\n",
       "      <td>61712</td>\n",
       "      <td>35322</td>\n",
       "      <td>57.2</td>\n",
       "      <td>33402</td>\n",
       "      <td>54.1</td>\n",
       "      <td>1920</td>\n",
       "      <td>5.4</td>\n",
       "      <td>NaN</td>\n",
       "      <td>2015</td>\n",
       "      <td>61712</td>\n",
       "      <td>...</td>\n",
       "      <td>57.2</td>\n",
       "      <td>33402</td>\n",
       "      <td>54.1</td>\n",
       "      <td>1920</td>\n",
       "      <td>5.4</td>\n",
       "      <td>2015</td>\n",
       "      <td>0</td>\n",
       "      <td>0</td>\n",
       "      <td>0</td>\n",
       "      <td>0</td>\n",
       "    </tr>\n",
       "    <tr>\n",
       "      <th>2</th>\n",
       "      <td>56263</td>\n",
       "      <td>37481</td>\n",
       "      <td>66.6</td>\n",
       "      <td>35785</td>\n",
       "      <td>63.6</td>\n",
       "      <td>1695</td>\n",
       "      <td>4.5</td>\n",
       "      <td>NaN</td>\n",
       "      <td>2015</td>\n",
       "      <td>56263</td>\n",
       "      <td>...</td>\n",
       "      <td>66.6</td>\n",
       "      <td>35785</td>\n",
       "      <td>63.6</td>\n",
       "      <td>1695</td>\n",
       "      <td>4.5</td>\n",
       "      <td>2015</td>\n",
       "      <td>0</td>\n",
       "      <td>0</td>\n",
       "      <td>0</td>\n",
       "      <td>0</td>\n",
       "    </tr>\n",
       "    <tr>\n",
       "      <th>3</th>\n",
       "      <td>35326</td>\n",
       "      <td>22706</td>\n",
       "      <td>64.3</td>\n",
       "      <td>21573</td>\n",
       "      <td>61.1</td>\n",
       "      <td>1134</td>\n",
       "      <td>5.0</td>\n",
       "      <td>NaN</td>\n",
       "      <td>2015</td>\n",
       "      <td>35326</td>\n",
       "      <td>...</td>\n",
       "      <td>64.3</td>\n",
       "      <td>21573</td>\n",
       "      <td>61.1</td>\n",
       "      <td>1134</td>\n",
       "      <td>5.0</td>\n",
       "      <td>2015</td>\n",
       "      <td>0</td>\n",
       "      <td>0</td>\n",
       "      <td>0</td>\n",
       "      <td>0</td>\n",
       "    </tr>\n",
       "    <tr>\n",
       "      <th>4</th>\n",
       "      <td>20937</td>\n",
       "      <td>14774</td>\n",
       "      <td>70.6</td>\n",
       "      <td>14213</td>\n",
       "      <td>67.9</td>\n",
       "      <td>562</td>\n",
       "      <td>3.8</td>\n",
       "      <td>NaN</td>\n",
       "      <td>2015</td>\n",
       "      <td>20937</td>\n",
       "      <td>...</td>\n",
       "      <td>70.6</td>\n",
       "      <td>14213</td>\n",
       "      <td>67.9</td>\n",
       "      <td>562</td>\n",
       "      <td>3.8</td>\n",
       "      <td>2015</td>\n",
       "      <td>0</td>\n",
       "      <td>0</td>\n",
       "      <td>0</td>\n",
       "      <td>0</td>\n",
       "    </tr>\n",
       "    <tr>\n",
       "      <th>5</th>\n",
       "      <td>70061</td>\n",
       "      <td>52133</td>\n",
       "      <td>74.4</td>\n",
       "      <td>50792</td>\n",
       "      <td>72.5</td>\n",
       "      <td>1341</td>\n",
       "      <td>2.6</td>\n",
       "      <td>NaN</td>\n",
       "      <td>2015</td>\n",
       "      <td>70061</td>\n",
       "      <td>...</td>\n",
       "      <td>74.4</td>\n",
       "      <td>50792</td>\n",
       "      <td>72.5</td>\n",
       "      <td>1341</td>\n",
       "      <td>2.6</td>\n",
       "      <td>2015</td>\n",
       "      <td>0</td>\n",
       "      <td>0</td>\n",
       "      <td>0</td>\n",
       "      <td>0</td>\n",
       "    </tr>\n",
       "    <tr>\n",
       "      <th>6</th>\n",
       "      <td>44086</td>\n",
       "      <td>32684</td>\n",
       "      <td>74.1</td>\n",
       "      <td>31772</td>\n",
       "      <td>72.1</td>\n",
       "      <td>912</td>\n",
       "      <td>2.8</td>\n",
       "      <td>NaN</td>\n",
       "      <td>2015</td>\n",
       "      <td>44086</td>\n",
       "      <td>...</td>\n",
       "      <td>74.1</td>\n",
       "      <td>31772</td>\n",
       "      <td>72.1</td>\n",
       "      <td>912</td>\n",
       "      <td>2.8</td>\n",
       "      <td>2015</td>\n",
       "      <td>0</td>\n",
       "      <td>0</td>\n",
       "      <td>0</td>\n",
       "      <td>0</td>\n",
       "    </tr>\n",
       "    <tr>\n",
       "      <th>7</th>\n",
       "      <td>25975</td>\n",
       "      <td>19449</td>\n",
       "      <td>74.9</td>\n",
       "      <td>19020</td>\n",
       "      <td>73.2</td>\n",
       "      <td>429</td>\n",
       "      <td>2.2</td>\n",
       "      <td>NaN</td>\n",
       "      <td>2015</td>\n",
       "      <td>25975</td>\n",
       "      <td>...</td>\n",
       "      <td>74.9</td>\n",
       "      <td>19020</td>\n",
       "      <td>73.2</td>\n",
       "      <td>429</td>\n",
       "      <td>2.2</td>\n",
       "      <td>2015</td>\n",
       "      <td>0</td>\n",
       "      <td>0</td>\n",
       "      <td>0</td>\n",
       "      <td>0</td>\n",
       "    </tr>\n",
       "    <tr>\n",
       "      <th>8</th>\n",
       "      <td>12137</td>\n",
       "      <td>7081</td>\n",
       "      <td>58.3</td>\n",
       "      <td>6573</td>\n",
       "      <td>54.2</td>\n",
       "      <td>507</td>\n",
       "      <td>7.2</td>\n",
       "      <td>NaN</td>\n",
       "      <td>2015</td>\n",
       "      <td>12137</td>\n",
       "      <td>...</td>\n",
       "      <td>58.3</td>\n",
       "      <td>6573</td>\n",
       "      <td>54.2</td>\n",
       "      <td>507</td>\n",
       "      <td>7.2</td>\n",
       "      <td>2015</td>\n",
       "      <td>0</td>\n",
       "      <td>0</td>\n",
       "      <td>0</td>\n",
       "      <td>0</td>\n",
       "    </tr>\n",
       "    <tr>\n",
       "      <th>9</th>\n",
       "      <td>30388</td>\n",
       "      <td>20416</td>\n",
       "      <td>67.2</td>\n",
       "      <td>19302</td>\n",
       "      <td>63.5</td>\n",
       "      <td>1114</td>\n",
       "      <td>5.5</td>\n",
       "      <td>NaN</td>\n",
       "      <td>2015</td>\n",
       "      <td>30388</td>\n",
       "      <td>...</td>\n",
       "      <td>67.2</td>\n",
       "      <td>19302</td>\n",
       "      <td>63.5</td>\n",
       "      <td>1114</td>\n",
       "      <td>5.5</td>\n",
       "      <td>2015</td>\n",
       "      <td>0</td>\n",
       "      <td>0</td>\n",
       "      <td>0</td>\n",
       "      <td>0</td>\n",
       "    </tr>\n",
       "  </tbody>\n",
       "</table>\n",
       "<p>10 rows × 21 columns</p>\n",
       "</div>"
      ],
      "text/plain": [
       "   Civilian noninstitutional population  Civilian labor force  \\\n",
       "0                                 24175                 10971   \n",
       "1                                 61712                 35322   \n",
       "2                                 56263                 37481   \n",
       "3                                 35326                 22706   \n",
       "4                                 20937                 14774   \n",
       "5                                 70061                 52133   \n",
       "6                                 44086                 32684   \n",
       "7                                 25975                 19449   \n",
       "8                                 12137                  7081   \n",
       "9                                 30388                 20416   \n",
       "\n",
       "   Participation rate  Employed  Employment-population ratio  Unemployed  \\\n",
       "0                45.4     10098                         41.8         873   \n",
       "1                57.2     33402                         54.1        1920   \n",
       "2                66.6     35785                         63.6        1695   \n",
       "3                64.3     21573                         61.1        1134   \n",
       "4                70.6     14213                         67.9         562   \n",
       "5                74.4     50792                         72.5        1341   \n",
       "6                74.1     31772                         72.1         912   \n",
       "7                74.9     19020                         73.2         429   \n",
       "8                58.3      6573                         54.2         507   \n",
       "9                67.2     19302                         63.5        1114   \n",
       "\n",
       "   Unemployment rate Race  Year  Civilian noninstitutional population  ...  \\\n",
       "0                8.0  NaN  2015                                 24175  ...   \n",
       "1                5.4  NaN  2015                                 61712  ...   \n",
       "2                4.5  NaN  2015                                 56263  ...   \n",
       "3                5.0  NaN  2015                                 35326  ...   \n",
       "4                3.8  NaN  2015                                 20937  ...   \n",
       "5                2.6  NaN  2015                                 70061  ...   \n",
       "6                2.8  NaN  2015                                 44086  ...   \n",
       "7                2.2  NaN  2015                                 25975  ...   \n",
       "8                7.2  NaN  2015                                 12137  ...   \n",
       "9                5.5  NaN  2015                                 30388  ...   \n",
       "\n",
       "   Participation rate  Employed  Employment-population ratio  Unemployed  \\\n",
       "0                45.4     10098                         41.8         873   \n",
       "1                57.2     33402                         54.1        1920   \n",
       "2                66.6     35785                         63.6        1695   \n",
       "3                64.3     21573                         61.1        1134   \n",
       "4                70.6     14213                         67.9         562   \n",
       "5                74.4     50792                         72.5        1341   \n",
       "6                74.1     31772                         72.1         912   \n",
       "7                74.9     19020                         73.2         429   \n",
       "8                58.3      6573                         54.2         507   \n",
       "9                67.2     19302                         63.5        1114   \n",
       "\n",
       "   Unemployment rate  Year  Race_Asian  Race_Black or African American  \\\n",
       "0                8.0  2015           0                               0   \n",
       "1                5.4  2015           0                               0   \n",
       "2                4.5  2015           0                               0   \n",
       "3                5.0  2015           0                               0   \n",
       "4                3.8  2015           0                               0   \n",
       "5                2.6  2015           0                               0   \n",
       "6                2.8  2015           0                               0   \n",
       "7                2.2  2015           0                               0   \n",
       "8                7.2  2015           0                               0   \n",
       "9                5.5  2015           0                               0   \n",
       "\n",
       "   Race_Hispanic or Latino ethnicity  Race_White  \n",
       "0                                  0           0  \n",
       "1                                  0           0  \n",
       "2                                  0           0  \n",
       "3                                  0           0  \n",
       "4                                  0           0  \n",
       "5                                  0           0  \n",
       "6                                  0           0  \n",
       "7                                  0           0  \n",
       "8                                  0           0  \n",
       "9                                  0           0  \n",
       "\n",
       "[10 rows x 21 columns]"
      ]
     },
     "execution_count": 21,
     "metadata": {},
     "output_type": "execute_result"
    }
   ],
   "source": [
    "df = pd.concat([data, dummy_data], axis = 1)\n",
    "df.head(10)"
   ]
  },
  {
   "cell_type": "code",
   "execution_count": 22,
   "id": "c855e86b",
   "metadata": {},
   "outputs": [
    {
     "name": "stdout",
     "output_type": "stream",
     "text": [
      "<class 'pandas.core.frame.DataFrame'>\n",
      "RangeIndex: 392 entries, 0 to 391\n",
      "Data columns (total 21 columns):\n",
      " #   Column                                Non-Null Count  Dtype  \n",
      "---  ------                                --------------  -----  \n",
      " 0   Civilian noninstitutional population  392 non-null    int32  \n",
      " 1   Civilian labor force                  392 non-null    int32  \n",
      " 2   Participation rate                    392 non-null    float64\n",
      " 3   Employed                              392 non-null    int32  \n",
      " 4   Employment-population ratio           392 non-null    float64\n",
      " 5   Unemployed                            392 non-null    int32  \n",
      " 6   Unemployment rate                     392 non-null    float64\n",
      " 7   Race                                  224 non-null    object \n",
      " 8   Year                                  392 non-null    int64  \n",
      " 9   Civilian noninstitutional population  392 non-null    int32  \n",
      " 10  Civilian labor force                  392 non-null    int32  \n",
      " 11  Participation rate                    392 non-null    float64\n",
      " 12  Employed                              392 non-null    int32  \n",
      " 13  Employment-population ratio           392 non-null    float64\n",
      " 14  Unemployed                            392 non-null    int32  \n",
      " 15  Unemployment rate                     392 non-null    float64\n",
      " 16  Year                                  392 non-null    int64  \n",
      " 17  Race_Asian                            392 non-null    uint8  \n",
      " 18  Race_Black or African American        392 non-null    uint8  \n",
      " 19  Race_Hispanic or Latino ethnicity     392 non-null    uint8  \n",
      " 20  Race_White                            392 non-null    uint8  \n",
      "dtypes: float64(6), int32(8), int64(2), object(1), uint8(4)\n",
      "memory usage: 41.5+ KB\n"
     ]
    }
   ],
   "source": [
    "df.info()"
   ]
  },
  {
   "cell_type": "code",
   "execution_count": 23,
   "id": "ac13587f",
   "metadata": {},
   "outputs": [],
   "source": [
    "df = df.drop(['Race'], axis = 1)"
   ]
  },
  {
   "cell_type": "code",
   "execution_count": 24,
   "id": "d47ec54f",
   "metadata": {},
   "outputs": [
    {
     "name": "stdout",
     "output_type": "stream",
     "text": [
      "<class 'pandas.core.frame.DataFrame'>\n",
      "RangeIndex: 392 entries, 0 to 391\n",
      "Data columns (total 20 columns):\n",
      " #   Column                                Non-Null Count  Dtype  \n",
      "---  ------                                --------------  -----  \n",
      " 0   Civilian noninstitutional population  392 non-null    int32  \n",
      " 1   Civilian labor force                  392 non-null    int32  \n",
      " 2   Participation rate                    392 non-null    float64\n",
      " 3   Employed                              392 non-null    int32  \n",
      " 4   Employment-population ratio           392 non-null    float64\n",
      " 5   Unemployed                            392 non-null    int32  \n",
      " 6   Unemployment rate                     392 non-null    float64\n",
      " 7   Year                                  392 non-null    int64  \n",
      " 8   Civilian noninstitutional population  392 non-null    int32  \n",
      " 9   Civilian labor force                  392 non-null    int32  \n",
      " 10  Participation rate                    392 non-null    float64\n",
      " 11  Employed                              392 non-null    int32  \n",
      " 12  Employment-population ratio           392 non-null    float64\n",
      " 13  Unemployed                            392 non-null    int32  \n",
      " 14  Unemployment rate                     392 non-null    float64\n",
      " 15  Year                                  392 non-null    int64  \n",
      " 16  Race_Asian                            392 non-null    uint8  \n",
      " 17  Race_Black or African American        392 non-null    uint8  \n",
      " 18  Race_Hispanic or Latino ethnicity     392 non-null    uint8  \n",
      " 19  Race_White                            392 non-null    uint8  \n",
      "dtypes: float64(6), int32(8), int64(2), uint8(4)\n",
      "memory usage: 38.4 KB\n"
     ]
    }
   ],
   "source": [
    "df.info()"
   ]
  },
  {
   "cell_type": "markdown",
   "id": "1d3997b9",
   "metadata": {},
   "source": [
    "Features Separating"
   ]
  },
  {
   "cell_type": "code",
   "execution_count": 25,
   "id": "e499d10b",
   "metadata": {},
   "outputs": [],
   "source": [
    "X = df.drop(['Unemployment rate','Unemployed', 'Employed', 'Employment-population ratio'], axis=1)\n",
    "y = df['Unemployment rate']"
   ]
  },
  {
   "cell_type": "markdown",
   "id": "fe9f96da",
   "metadata": {},
   "source": [
    "Scaling our Features"
   ]
  },
  {
   "cell_type": "code",
   "execution_count": 26,
   "id": "8671b5a2",
   "metadata": {},
   "outputs": [],
   "source": [
    "scaler = StandardScaler()"
   ]
  },
  {
   "cell_type": "code",
   "execution_count": 27,
   "id": "85eaf142",
   "metadata": {},
   "outputs": [],
   "source": [
    "X_scaled = scaler.fit_transform(X)"
   ]
  },
  {
   "cell_type": "code",
   "execution_count": 28,
   "id": "3e530ba4",
   "metadata": {},
   "outputs": [
    {
     "data": {
      "text/html": [
       "<div>\n",
       "<style scoped>\n",
       "    .dataframe tbody tr th:only-of-type {\n",
       "        vertical-align: middle;\n",
       "    }\n",
       "\n",
       "    .dataframe tbody tr th {\n",
       "        vertical-align: top;\n",
       "    }\n",
       "\n",
       "    .dataframe thead th {\n",
       "        text-align: right;\n",
       "    }\n",
       "</style>\n",
       "<table border=\"1\" class=\"dataframe\">\n",
       "  <thead>\n",
       "    <tr style=\"text-align: right;\">\n",
       "      <th></th>\n",
       "      <th>0</th>\n",
       "      <th>1</th>\n",
       "      <th>2</th>\n",
       "      <th>3</th>\n",
       "      <th>4</th>\n",
       "      <th>5</th>\n",
       "      <th>6</th>\n",
       "      <th>7</th>\n",
       "      <th>8</th>\n",
       "      <th>9</th>\n",
       "      <th>10</th>\n",
       "      <th>11</th>\n",
       "    </tr>\n",
       "  </thead>\n",
       "  <tbody>\n",
       "    <tr>\n",
       "      <th>0</th>\n",
       "      <td>0.250793</td>\n",
       "      <td>-0.162890</td>\n",
       "      <td>-1.922845</td>\n",
       "      <td>-1.5</td>\n",
       "      <td>0.250793</td>\n",
       "      <td>-0.162890</td>\n",
       "      <td>-1.922845</td>\n",
       "      <td>-1.5</td>\n",
       "      <td>-0.408248</td>\n",
       "      <td>-0.408248</td>\n",
       "      <td>-0.408248</td>\n",
       "      <td>-0.408248</td>\n",
       "    </tr>\n",
       "    <tr>\n",
       "      <th>1</th>\n",
       "      <td>2.309825</td>\n",
       "      <td>1.792629</td>\n",
       "      <td>-0.852389</td>\n",
       "      <td>-1.5</td>\n",
       "      <td>2.309825</td>\n",
       "      <td>1.792629</td>\n",
       "      <td>-0.852389</td>\n",
       "      <td>-1.5</td>\n",
       "      <td>-0.408248</td>\n",
       "      <td>-0.408248</td>\n",
       "      <td>-0.408248</td>\n",
       "      <td>-0.408248</td>\n",
       "    </tr>\n",
       "    <tr>\n",
       "      <th>2</th>\n",
       "      <td>2.010929</td>\n",
       "      <td>1.966009</td>\n",
       "      <td>0.000347</td>\n",
       "      <td>-1.5</td>\n",
       "      <td>2.010929</td>\n",
       "      <td>1.966009</td>\n",
       "      <td>0.000347</td>\n",
       "      <td>-1.5</td>\n",
       "      <td>-0.408248</td>\n",
       "      <td>-0.408248</td>\n",
       "      <td>-0.408248</td>\n",
       "      <td>-0.408248</td>\n",
       "    </tr>\n",
       "    <tr>\n",
       "      <th>3</th>\n",
       "      <td>0.862463</td>\n",
       "      <td>0.779495</td>\n",
       "      <td>-0.208301</td>\n",
       "      <td>-1.5</td>\n",
       "      <td>0.862463</td>\n",
       "      <td>0.779495</td>\n",
       "      <td>-0.208301</td>\n",
       "      <td>-1.5</td>\n",
       "      <td>-0.408248</td>\n",
       "      <td>-0.408248</td>\n",
       "      <td>-0.408248</td>\n",
       "      <td>-0.408248</td>\n",
       "    </tr>\n",
       "    <tr>\n",
       "      <th>4</th>\n",
       "      <td>0.073178</td>\n",
       "      <td>0.142512</td>\n",
       "      <td>0.363214</td>\n",
       "      <td>-1.5</td>\n",
       "      <td>0.073178</td>\n",
       "      <td>0.142512</td>\n",
       "      <td>0.363214</td>\n",
       "      <td>-1.5</td>\n",
       "      <td>-0.408248</td>\n",
       "      <td>-0.408248</td>\n",
       "      <td>-0.408248</td>\n",
       "      <td>-0.408248</td>\n",
       "    </tr>\n",
       "  </tbody>\n",
       "</table>\n",
       "</div>"
      ],
      "text/plain": [
       "         0         1         2    3         4         5         6    7   \\\n",
       "0  0.250793 -0.162890 -1.922845 -1.5  0.250793 -0.162890 -1.922845 -1.5   \n",
       "1  2.309825  1.792629 -0.852389 -1.5  2.309825  1.792629 -0.852389 -1.5   \n",
       "2  2.010929  1.966009  0.000347 -1.5  2.010929  1.966009  0.000347 -1.5   \n",
       "3  0.862463  0.779495 -0.208301 -1.5  0.862463  0.779495 -0.208301 -1.5   \n",
       "4  0.073178  0.142512  0.363214 -1.5  0.073178  0.142512  0.363214 -1.5   \n",
       "\n",
       "         8         9         10        11  \n",
       "0 -0.408248 -0.408248 -0.408248 -0.408248  \n",
       "1 -0.408248 -0.408248 -0.408248 -0.408248  \n",
       "2 -0.408248 -0.408248 -0.408248 -0.408248  \n",
       "3 -0.408248 -0.408248 -0.408248 -0.408248  \n",
       "4 -0.408248 -0.408248 -0.408248 -0.408248  "
      ]
     },
     "execution_count": 28,
     "metadata": {},
     "output_type": "execute_result"
    }
   ],
   "source": [
    "pd.DataFrame(X_scaled).head(5)"
   ]
  },
  {
   "cell_type": "markdown",
   "id": "1b980e83",
   "metadata": {},
   "source": [
    "Split Dataset"
   ]
  },
  {
   "cell_type": "code",
   "execution_count": 29,
   "id": "ea81e413",
   "metadata": {},
   "outputs": [],
   "source": [
    "X_train, X_test, y_train, y_test = train_test_split(X_scaled, y, test_size=0.25, random_state=4)"
   ]
  },
  {
   "cell_type": "markdown",
   "id": "a38068fd",
   "metadata": {},
   "source": [
    "Linear Regression "
   ]
  },
  {
   "cell_type": "code",
   "execution_count": 30,
   "id": "ef2066d6",
   "metadata": {},
   "outputs": [],
   "source": [
    "reg = linear_model.LinearRegression()"
   ]
  },
  {
   "cell_type": "code",
   "execution_count": 31,
   "id": "9bad3705",
   "metadata": {},
   "outputs": [
    {
     "data": {
      "text/plain": [
       "LinearRegression()"
      ]
     },
     "execution_count": 31,
     "metadata": {},
     "output_type": "execute_result"
    }
   ],
   "source": [
    "reg.fit(X_train , y_train)"
   ]
  },
  {
   "cell_type": "code",
   "execution_count": 32,
   "id": "4dc7ba91",
   "metadata": {},
   "outputs": [
    {
     "data": {
      "text/plain": [
       "0.5829368473118681"
      ]
     },
     "execution_count": 32,
     "metadata": {},
     "output_type": "execute_result"
    }
   ],
   "source": [
    "reg.score(X_train , y_train)"
   ]
  },
  {
   "cell_type": "code",
   "execution_count": 33,
   "id": "a724ee51",
   "metadata": {},
   "outputs": [
    {
     "data": {
      "text/plain": [
       "0.5414024159979209"
      ]
     },
     "execution_count": 33,
     "metadata": {},
     "output_type": "execute_result"
    }
   ],
   "source": [
    "LRAcc= reg.score(X_test , y_test)\n",
    "LRAcc"
   ]
  },
  {
   "cell_type": "code",
   "execution_count": 34,
   "id": "38838a3e",
   "metadata": {},
   "outputs": [
    {
     "data": {
      "text/plain": [
       "array([[-0.62029793,  0.59556448, -0.98229106,  0.23825922, -0.62029793,\n",
       "         0.59556448, -0.98229106,  0.23825922,  0.06918395,  0.9213514 ,\n",
       "         0.56651268, -0.18966669],\n",
       "       [-0.62029793,  0.59556448, -0.98229106,  0.23825922, -0.62029793,\n",
       "         0.59556448, -0.98229106,  0.23825922,  0.06918395,  0.9213514 ,\n",
       "         0.56651268, -0.18966669]])"
      ]
     },
     "execution_count": 34,
     "metadata": {},
     "output_type": "execute_result"
    }
   ],
   "source": [
    "reg.coef_"
   ]
  },
  {
   "cell_type": "code",
   "execution_count": 35,
   "id": "1b36d79e",
   "metadata": {},
   "outputs": [
    {
     "data": {
      "text/html": [
       "<div>\n",
       "<style scoped>\n",
       "    .dataframe tbody tr th:only-of-type {\n",
       "        vertical-align: middle;\n",
       "    }\n",
       "\n",
       "    .dataframe tbody tr th {\n",
       "        vertical-align: top;\n",
       "    }\n",
       "\n",
       "    .dataframe thead th {\n",
       "        text-align: right;\n",
       "    }\n",
       "</style>\n",
       "<table border=\"1\" class=\"dataframe\">\n",
       "  <thead>\n",
       "    <tr style=\"text-align: right;\">\n",
       "      <th></th>\n",
       "      <th>Linear Regression Coefficient</th>\n",
       "    </tr>\n",
       "  </thead>\n",
       "  <tbody>\n",
       "    <tr>\n",
       "      <th>Civilian noninstitutional population</th>\n",
       "      <td>-0.620298</td>\n",
       "    </tr>\n",
       "    <tr>\n",
       "      <th>Civilian labor force</th>\n",
       "      <td>0.595564</td>\n",
       "    </tr>\n",
       "    <tr>\n",
       "      <th>Participation rate</th>\n",
       "      <td>-0.982291</td>\n",
       "    </tr>\n",
       "    <tr>\n",
       "      <th>Year</th>\n",
       "      <td>0.238259</td>\n",
       "    </tr>\n",
       "    <tr>\n",
       "      <th>Civilian noninstitutional population</th>\n",
       "      <td>-0.620298</td>\n",
       "    </tr>\n",
       "    <tr>\n",
       "      <th>Civilian labor force</th>\n",
       "      <td>0.595564</td>\n",
       "    </tr>\n",
       "    <tr>\n",
       "      <th>Participation rate</th>\n",
       "      <td>-0.982291</td>\n",
       "    </tr>\n",
       "    <tr>\n",
       "      <th>Year</th>\n",
       "      <td>0.238259</td>\n",
       "    </tr>\n",
       "    <tr>\n",
       "      <th>Race_Asian</th>\n",
       "      <td>0.069184</td>\n",
       "    </tr>\n",
       "    <tr>\n",
       "      <th>Race_Black or African American</th>\n",
       "      <td>0.921351</td>\n",
       "    </tr>\n",
       "    <tr>\n",
       "      <th>Race_Hispanic or Latino ethnicity</th>\n",
       "      <td>0.566513</td>\n",
       "    </tr>\n",
       "    <tr>\n",
       "      <th>Race_White</th>\n",
       "      <td>-0.189667</td>\n",
       "    </tr>\n",
       "  </tbody>\n",
       "</table>\n",
       "</div>"
      ],
      "text/plain": [
       "                                      Linear Regression Coefficient\n",
       "Civilian noninstitutional population                      -0.620298\n",
       "Civilian labor force                                       0.595564\n",
       "Participation rate                                        -0.982291\n",
       "Year                                                       0.238259\n",
       "Civilian noninstitutional population                      -0.620298\n",
       "Civilian labor force                                       0.595564\n",
       "Participation rate                                        -0.982291\n",
       "Year                                                       0.238259\n",
       "Race_Asian                                                 0.069184\n",
       "Race_Black or African American                             0.921351\n",
       "Race_Hispanic or Latino ethnicity                          0.566513\n",
       "Race_White                                                -0.189667"
      ]
     },
     "execution_count": 35,
     "metadata": {},
     "output_type": "execute_result"
    }
   ],
   "source": [
    "assert reg.coef_[0].all() == reg.coef_[1].all() # Both arrays are identitcal\n",
    "pd.DataFrame(reg.coef_[0], index=X.columns, columns= ['Linear Regression Coefficient'])"
   ]
  },
  {
   "cell_type": "code",
   "execution_count": 36,
   "id": "aac9ddb5",
   "metadata": {},
   "outputs": [],
   "source": [
    "y_pred = reg.predict(X_test)\n",
    "df2 = pd.DataFrame(y_pred)\n",
    "y_predicted = df2.iloc[:, 0]"
   ]
  },
  {
   "cell_type": "code",
   "execution_count": 37,
   "id": "6405b493",
   "metadata": {},
   "outputs": [
    {
     "data": {
      "text/plain": [
       "0      24175\n",
       "1      61712\n",
       "2      56263\n",
       "3      35326\n",
       "4      20937\n",
       "       ...  \n",
       "387     4761\n",
       "388     3090\n",
       "389     7432\n",
       "390     5174\n",
       "391     2259\n",
       "Name: Civilian noninstitutional population, Length: 392, dtype: int32"
      ]
     },
     "execution_count": 37,
     "metadata": {},
     "output_type": "execute_result"
    }
   ],
   "source": [
    "x2 = pd.DataFrame(X)\n",
    "x2.iloc[:, 0]"
   ]
  },
  {
   "cell_type": "code",
   "execution_count": 38,
   "id": "3e34e056",
   "metadata": {},
   "outputs": [
    {
     "data": {
      "text/plain": [
       "0      8.0\n",
       "1      5.4\n",
       "2      4.5\n",
       "3      5.0\n",
       "4      3.8\n",
       "      ... \n",
       "387    6.2\n",
       "388    6.0\n",
       "389    3.9\n",
       "390    4.3\n",
       "391    2.9\n",
       "Name: Unemployment rate, Length: 392, dtype: float64"
      ]
     },
     "execution_count": 38,
     "metadata": {},
     "output_type": "execute_result"
    }
   ],
   "source": [
    "y2 = pd.DataFrame(y)\n",
    "y2.iloc[:, 0]"
   ]
  },
  {
   "cell_type": "code",
   "execution_count": 39,
   "id": "a32e401f",
   "metadata": {},
   "outputs": [
    {
     "data": {
      "text/plain": [
       "<function matplotlib.pyplot.show(close=None, block=None)>"
      ]
     },
     "execution_count": 39,
     "metadata": {},
     "output_type": "execute_result"
    },
    {
     "data": {
      "image/png": "[encoded data removed]",
      "text/plain": [
       "<Figure size 640x480 with 1 Axes>"
      ]
     },
     "metadata": {},
     "output_type": "display_data"
    }
   ],
   "source": [
    "plt.scatter(x = x2.iloc[:, 0], y = y2.iloc[:, 0], s=30)\n",
    "\n",
    "x = x2.iloc[:, 0]\n",
    "y = y2.iloc[:, 0]\n",
    "z = np.polyfit(x,y,1)\n",
    "p = np.poly1d(z)\n",
    "plt.plot(x,p(x),\"r--\")\n",
    "plt.xlabel('Predicted Value')\n",
    "plt.ylabel('Actual Value')\n",
    "plt.title('Linear Regression Model')\n",
    "plt.show"
   ]
  },
  {
   "cell_type": "markdown",
   "id": "2533686a",
   "metadata": {},
   "source": [
    "Decision Tree Regression"
   ]
  },
  {
   "cell_type": "code",
   "execution_count": 40,
   "id": "92d43734",
   "metadata": {},
   "outputs": [],
   "source": [
    "DTreg = DecisionTreeRegressor(random_state = 0) "
   ]
  },
  {
   "cell_type": "code",
   "execution_count": 41,
   "id": "b05884c6",
   "metadata": {},
   "outputs": [
    {
     "data": {
      "text/plain": [
       "DecisionTreeRegressor(random_state=0)"
      ]
     },
     "execution_count": 41,
     "metadata": {},
     "output_type": "execute_result"
    }
   ],
   "source": [
    "DTreg.fit(X_train, y_train)"
   ]
  },
  {
   "cell_type": "code",
   "execution_count": 42,
   "id": "129ffa92",
   "metadata": {},
   "outputs": [
    {
     "data": {
      "text/plain": [
       "1.0"
      ]
     },
     "execution_count": 42,
     "metadata": {},
     "output_type": "execute_result"
    }
   ],
   "source": [
    "DTreg.score(X_train, y_train)"
   ]
  },
  {
   "cell_type": "code",
   "execution_count": 43,
   "id": "2e8d275a",
   "metadata": {},
   "outputs": [
    {
     "data": {
      "text/plain": [
       "0.7767003702629047"
      ]
     },
     "execution_count": 43,
     "metadata": {},
     "output_type": "execute_result"
    }
   ],
   "source": [
    "DTAcc = DTreg.score(X_test, y_test)\n",
    "DTAcc"
   ]
  },
  {
   "cell_type": "code",
   "execution_count": 44,
   "id": "7d524cac",
   "metadata": {},
   "outputs": [],
   "source": [
    "y_pred_2 = DTreg.predict(X_test)"
   ]
  },
  {
   "cell_type": "code",
   "execution_count": 45,
   "id": "428f67be",
   "metadata": {},
   "outputs": [
    {
     "data": {
      "text/plain": [
       "0      24175\n",
       "1      61712\n",
       "2      56263\n",
       "3      35326\n",
       "4      20937\n",
       "       ...  \n",
       "387     4761\n",
       "388     3090\n",
       "389     7432\n",
       "390     5174\n",
       "391     2259\n",
       "Name: Civilian noninstitutional population, Length: 392, dtype: int32"
      ]
     },
     "execution_count": 45,
     "metadata": {},
     "output_type": "execute_result"
    }
   ],
   "source": [
    "x3 = pd.DataFrame(X)\n",
    "x3.iloc[:, 0]"
   ]
  },
  {
   "cell_type": "code",
   "execution_count": 46,
   "id": "d30c4acf",
   "metadata": {},
   "outputs": [
    {
     "data": {
      "text/plain": [
       "<function matplotlib.pyplot.show(close=None, block=None)>"
      ]
     },
     "execution_count": 46,
     "metadata": {},
     "output_type": "execute_result"
    },
    {
     "data": {
      "image/png": "[encoded data removed]",
      "text/plain": [
       "<Figure size 640x480 with 1 Axes>"
      ]
     },
     "metadata": {},
     "output_type": "display_data"
    }
   ],
   "source": [
    "plt.scatter(x = x3.iloc[:, 0], y = y2.iloc[:, 0], s=30)\n",
    "\n",
    "x = x3.iloc[:, 0]\n",
    "y = y2.iloc[:, 0]\n",
    "z = np.polyfit(x,y,1)\n",
    "p = np.poly1d(z)\n",
    "plt.plot(x,p(x),\"r--\")\n",
    "plt.xlabel('Predicted Value')\n",
    "plt.ylabel('Actual Value')\n",
    "plt.title('Decision Tree Regression Model')\n",
    "plt.show"
   ]
  },
  {
   "cell_type": "markdown",
   "id": "77958eac",
   "metadata": {},
   "source": [
    "K Nearest Neighbors Regression"
   ]
  },
  {
   "cell_type": "code",
   "execution_count": 47,
   "id": "baf685cf",
   "metadata": {},
   "outputs": [],
   "source": [
    "knn_model = KNeighborsRegressor(n_neighbors=4, metric='manhattan').fit(X_train, y_train)"
   ]
  },
  {
   "cell_type": "code",
   "execution_count": 48,
   "id": "e4cbdfd1",
   "metadata": {},
   "outputs": [
    {
     "data": {
      "text/plain": [
       "'manhattan'"
      ]
     },
     "execution_count": 48,
     "metadata": {},
     "output_type": "execute_result"
    }
   ],
   "source": [
    "knn_model.score(X_train, y_train)\n",
    "knn_model.metric"
   ]
  },
  {
   "cell_type": "code",
   "execution_count": 49,
   "id": "8064b677",
   "metadata": {},
   "outputs": [
    {
     "data": {
      "text/plain": [
       "0.6395690149160278"
      ]
     },
     "execution_count": 49,
     "metadata": {},
     "output_type": "execute_result"
    }
   ],
   "source": [
    "knnAcc = knn_model.score(X_test, y_test)\n",
    "knnAcc"
   ]
  },
  {
   "cell_type": "code",
   "execution_count": 50,
   "id": "18338a56",
   "metadata": {},
   "outputs": [],
   "source": [
    "y_pred_3 = knn_model.predict(X_test)\n"
   ]
  },
  {
   "cell_type": "code",
   "execution_count": 51,
   "id": "6bcb4621",
   "metadata": {},
   "outputs": [
    {
     "data": {
      "text/plain": [
       "0      24175\n",
       "1      61712\n",
       "2      56263\n",
       "3      35326\n",
       "4      20937\n",
       "       ...  \n",
       "387     4761\n",
       "388     3090\n",
       "389     7432\n",
       "390     5174\n",
       "391     2259\n",
       "Name: Civilian noninstitutional population, Length: 392, dtype: int32"
      ]
     },
     "execution_count": 51,
     "metadata": {},
     "output_type": "execute_result"
    }
   ],
   "source": [
    "x4 =pd.DataFrame(X)\n",
    "x4.iloc[:, 0]"
   ]
  },
  {
   "cell_type": "code",
   "execution_count": 52,
   "id": "f2a37f4f",
   "metadata": {},
   "outputs": [
    {
     "data": {
      "image/png": "[encoded data removed]",
      "text/plain": [
       "<Figure size 640x480 with 1 Axes>"
      ]
     },
     "metadata": {},
     "output_type": "display_data"
    }
   ],
   "source": [
    "plt.scatter(x = x4.iloc[:, 0], y = y2.iloc[:, 0], s=30)\n",
    "\n",
    "x = x4.iloc[:, 0]\n",
    "y = y2.iloc[:, 0]\n",
    "z = np.polyfit(x,y,1)\n",
    "p = np.poly1d(z)\n",
    "plt.plot(x,p(x),\"r--\")\n",
    "plt.xlabel('Predicted Value')\n",
    "plt.ylabel('Actual Value')\n",
    "plt.title('KNN Regression Model')\n",
    "plt.show();"
   ]
  },
  {
   "cell_type": "markdown",
   "id": "88f4b59b",
   "metadata": {},
   "source": [
    "Ridge Regression"
   ]
  },
  {
   "cell_type": "code",
   "execution_count": 53,
   "id": "b0cd139c",
   "metadata": {},
   "outputs": [],
   "source": [
    "ridge = Ridge(alpha = 0.5, normalize = False, tol = 0.001, \\\n",
    "              solver ='auto', random_state = 42)"
   ]
  },
  {
   "cell_type": "code",
   "execution_count": 54,
   "id": "65b40aed",
   "metadata": {},
   "outputs": [
    {
     "name": "stderr",
     "output_type": "stream",
     "text": [
      "c:\\Users\\RobDewan\\anaconda3\\lib\\site-packages\\sklearn\\linear_model\\_base.py:148: FutureWarning: 'normalize' was deprecated in version 1.0 and will be removed in 1.2. Please leave the normalize parameter to its default value to silence this warning. The default behavior of this estimator is to not do any normalization. If normalization is needed please use sklearn.preprocessing.StandardScaler instead.\n",
      "  warnings.warn(\n"
     ]
    },
    {
     "data": {
      "text/plain": [
       "Ridge(alpha=0.5, normalize=False, random_state=42)"
      ]
     },
     "execution_count": 54,
     "metadata": {},
     "output_type": "execute_result"
    }
   ],
   "source": [
    "ridge.fit(X_train, y_train)"
   ]
  },
  {
   "cell_type": "code",
   "execution_count": 55,
   "id": "4c7008d7",
   "metadata": {},
   "outputs": [
    {
     "data": {
      "text/plain": [
       "0.5828962798705991"
      ]
     },
     "execution_count": 55,
     "metadata": {},
     "output_type": "execute_result"
    }
   ],
   "source": [
    "ridge.score(X_train, y_train)"
   ]
  },
  {
   "cell_type": "code",
   "execution_count": 56,
   "id": "37d8296a",
   "metadata": {},
   "outputs": [
    {
     "data": {
      "text/plain": [
       "0.5418758699091102"
      ]
     },
     "execution_count": 56,
     "metadata": {},
     "output_type": "execute_result"
    }
   ],
   "source": [
    "RidAcc = ridge.score(X_test, y_test)\n",
    "RidAcc"
   ]
  },
  {
   "cell_type": "code",
   "execution_count": 57,
   "id": "d860ecb7",
   "metadata": {},
   "outputs": [
    {
     "data": {
      "text/plain": [
       "array([[-0.55306803,  0.52769858, -0.97260133,  0.23792296, -0.55306803,\n",
       "         0.52769858, -0.97260133,  0.23792296,  0.07005175,  0.91952815,\n",
       "         0.56198016, -0.19049605],\n",
       "       [-0.55306803,  0.52769858, -0.97260133,  0.23792296, -0.55306803,\n",
       "         0.52769858, -0.97260133,  0.23792296,  0.07005175,  0.91952815,\n",
       "         0.56198016, -0.19049605]])"
      ]
     },
     "execution_count": 57,
     "metadata": {},
     "output_type": "execute_result"
    }
   ],
   "source": [
    "ridge.coef_"
   ]
  },
  {
   "cell_type": "code",
   "execution_count": 58,
   "id": "5d1fd34d",
   "metadata": {},
   "outputs": [
    {
     "data": {
      "text/html": [
       "<div>\n",
       "<style scoped>\n",
       "    .dataframe tbody tr th:only-of-type {\n",
       "        vertical-align: middle;\n",
       "    }\n",
       "\n",
       "    .dataframe tbody tr th {\n",
       "        vertical-align: top;\n",
       "    }\n",
       "\n",
       "    .dataframe thead th {\n",
       "        text-align: right;\n",
       "    }\n",
       "</style>\n",
       "<table border=\"1\" class=\"dataframe\">\n",
       "  <thead>\n",
       "    <tr style=\"text-align: right;\">\n",
       "      <th></th>\n",
       "      <th>Ridge Regression Coefficient</th>\n",
       "    </tr>\n",
       "  </thead>\n",
       "  <tbody>\n",
       "    <tr>\n",
       "      <th>Civilian noninstitutional population</th>\n",
       "      <td>-0.553068</td>\n",
       "    </tr>\n",
       "    <tr>\n",
       "      <th>Civilian labor force</th>\n",
       "      <td>0.527699</td>\n",
       "    </tr>\n",
       "    <tr>\n",
       "      <th>Participation rate</th>\n",
       "      <td>-0.972601</td>\n",
       "    </tr>\n",
       "    <tr>\n",
       "      <th>Year</th>\n",
       "      <td>0.237923</td>\n",
       "    </tr>\n",
       "    <tr>\n",
       "      <th>Civilian noninstitutional population</th>\n",
       "      <td>-0.553068</td>\n",
       "    </tr>\n",
       "    <tr>\n",
       "      <th>Civilian labor force</th>\n",
       "      <td>0.527699</td>\n",
       "    </tr>\n",
       "    <tr>\n",
       "      <th>Participation rate</th>\n",
       "      <td>-0.972601</td>\n",
       "    </tr>\n",
       "    <tr>\n",
       "      <th>Year</th>\n",
       "      <td>0.237923</td>\n",
       "    </tr>\n",
       "    <tr>\n",
       "      <th>Race_Asian</th>\n",
       "      <td>0.070052</td>\n",
       "    </tr>\n",
       "    <tr>\n",
       "      <th>Race_Black or African American</th>\n",
       "      <td>0.919528</td>\n",
       "    </tr>\n",
       "    <tr>\n",
       "      <th>Race_Hispanic or Latino ethnicity</th>\n",
       "      <td>0.561980</td>\n",
       "    </tr>\n",
       "    <tr>\n",
       "      <th>Race_White</th>\n",
       "      <td>-0.190496</td>\n",
       "    </tr>\n",
       "  </tbody>\n",
       "</table>\n",
       "</div>"
      ],
      "text/plain": [
       "                                      Ridge Regression Coefficient\n",
       "Civilian noninstitutional population                     -0.553068\n",
       "Civilian labor force                                      0.527699\n",
       "Participation rate                                       -0.972601\n",
       "Year                                                      0.237923\n",
       "Civilian noninstitutional population                     -0.553068\n",
       "Civilian labor force                                      0.527699\n",
       "Participation rate                                       -0.972601\n",
       "Year                                                      0.237923\n",
       "Race_Asian                                                0.070052\n",
       "Race_Black or African American                            0.919528\n",
       "Race_Hispanic or Latino ethnicity                         0.561980\n",
       "Race_White                                               -0.190496"
      ]
     },
     "execution_count": 58,
     "metadata": {},
     "output_type": "execute_result"
    }
   ],
   "source": [
    "assert ridge.coef_[0].all() == ridge.coef_[1].all() # Both arrays are identical\n",
    "pd.DataFrame(ridge.coef_[0], index=X.columns, columns=['Ridge Regression Coefficient'])"
   ]
  },
  {
   "cell_type": "code",
   "execution_count": 59,
   "id": "cb1e8ad2",
   "metadata": {},
   "outputs": [],
   "source": [
    "y_pred_4 = ridge.predict(X_test)"
   ]
  },
  {
   "cell_type": "code",
   "execution_count": 60,
   "id": "74029bb8",
   "metadata": {},
   "outputs": [
    {
     "data": {
      "text/plain": [
       "0      24175\n",
       "1      61712\n",
       "2      56263\n",
       "3      35326\n",
       "4      20937\n",
       "       ...  \n",
       "387     4761\n",
       "388     3090\n",
       "389     7432\n",
       "390     5174\n",
       "391     2259\n",
       "Name: Civilian noninstitutional population, Length: 392, dtype: int32"
      ]
     },
     "execution_count": 60,
     "metadata": {},
     "output_type": "execute_result"
    }
   ],
   "source": [
    "x5 =pd.DataFrame(X)\n",
    "x5.iloc[:, 0]"
   ]
  },
  {
   "cell_type": "code",
   "execution_count": 61,
   "id": "8e7ef435",
   "metadata": {},
   "outputs": [
    {
     "data": {
      "text/plain": [
       "<function matplotlib.pyplot.show(close=None, block=None)>"
      ]
     },
     "execution_count": 61,
     "metadata": {},
     "output_type": "execute_result"
    },
    {
     "data": {
      "image/png": "[encoded data removed]",
      "text/plain": [
       "<Figure size 640x480 with 1 Axes>"
      ]
     },
     "metadata": {},
     "output_type": "display_data"
    }
   ],
   "source": [
    "plt.scatter(x = x5.iloc[:, 0], y = y2.iloc[:, 0], s=30)\n",
    "\n",
    "x = x5.iloc[:, 0]\n",
    "y = y2.iloc[:, 0]\n",
    "z = np.polyfit(x,y,1)\n",
    "p = np.poly1d(z)\n",
    "plt.plot(x,p(x),\"r--\")\n",
    "plt.xlabel('Predicted Value')\n",
    "plt.ylabel('Actual Value')\n",
    "plt.title('Ridge Regression Model')\n",
    "plt.show"
   ]
  },
  {
   "cell_type": "code",
   "execution_count": null,
   "id": "ac3c34dc",
   "metadata": {},
   "outputs": [],
   "source": []
  }
 ],
 "metadata": {
  "kernelspec": {
   "display_name": "base",
   "language": "python",
   "name": "python3"
  },
  "language_info": {
   "codemirror_mode": {
    "name": "ipython",
    "version": 3
   },
   "file_extension": ".py",
   "mimetype": "text/x-python",
   "name": "python",
   "nbconvert_exporter": "python",
   "pygments_lexer": "ipython3",
   "version": "3.9.13"
  },
  "vscode": {
   "interpreter": {
    "hash": "85dc16358c8135276cea6cc9ec3de3bb48d54befa5bbd5118bc882ec3e06d27f"
   }
  }
 },
 "nbformat": 4,
 "nbformat_minor": 5
}
