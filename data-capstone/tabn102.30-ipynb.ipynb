{
 "cells": [
  {
   "cell_type": "code",
   "execution_count": 3,
   "metadata": {},
   "outputs": [],
   "source": [
    "import numpy as np\n",
    "import pandas as pd\n",
    "import math\n",
    "import re"
   ]
  },
  {
   "cell_type": "code",
   "execution_count": 4,
   "metadata": {},
   "outputs": [],
   "source": [
    "to_clean = []\n",
    "with open(r\"tabn102.30.csv\") as f:\n",
    "    for lines in f:\n",
    "        if re.findall('-[0-9]|[0-9]', lines):\n",
    "            to_clean.append(lines.replace(',,', '').replace('\\n', ''))\n",
    "        else:\n",
    "            pass\n"
   ]
  },
  {
   "cell_type": "code",
   "execution_count": 5,
   "metadata": {},
   "outputs": [
    {
     "data": {
      "text/plain": [
       "'   United States,\"$60,000\",\"$64,600\",\"$60,700\",(80),\"$58,800\",(50),\"$58,000\",(60),\"$60,200\",(60),\"$61,400\",(70),\"$62,900\",(50),\"$63,100\",(60),\"$65,700\",(70),'"
      ]
     },
     "execution_count": 5,
     "metadata": {},
     "output_type": "execute_result"
    }
   ],
   "source": [
    "raw_data = to_clean[4:-3]\n",
    "raw_data[0]"
   ]
  },
  {
   "cell_type": "code",
   "execution_count": 6,
   "metadata": {},
   "outputs": [],
   "source": [
    "index = []\n",
    "clean_data = []\n",
    "for i in range(0, len(raw_data)):\n",
    "    clean_string = ''\n",
    "    cleaner_data = []\n",
    "    for k in range(0, len(raw_data[i])):\n",
    "        try:\n",
    "            if re.findall('[0-9],[0-9]', raw_data[i][k-1] + raw_data[i][k] + raw_data[i][k+1]):\n",
    "                pass\n",
    "            elif raw_data[i][k] == '\"':\n",
    "                pass\n",
    "            elif raw_data[i][k] == '$':\n",
    "                pass\n",
    "            else:\n",
    "                clean_string = clean_string + raw_data[i][k]\n",
    "        except:\n",
    "            pass\n",
    "    clean_string = clean_string.strip()\n",
    "    list_to_clean = clean_string.split(',')\n",
    "    for items in list_to_clean:\n",
    "        if re.findall('[a-z]', items):\n",
    "            index.append(items)\n",
    "        elif re.findall('\\(', items):\n",
    "            pass\n",
    "        else:\n",
    "            cleaner_data.append(items)\n",
    "    clean_data.append(cleaner_data)"
   ]
  },
  {
   "cell_type": "code",
   "execution_count": 7,
   "metadata": {},
   "outputs": [
    {
     "data": {
      "text/plain": [
       "(10,)"
      ]
     },
     "execution_count": 7,
     "metadata": {},
     "output_type": "execute_result"
    }
   ],
   "source": [
    "title = 'Median Household Income by State: Selected years 1990 through 2019,'\n",
    "column_level1 = (title * 10).split(',')[:-1]\n",
    "column_level1 = np.array(column_level1)\n",
    "column_level1.shape"
   ]
  },
  {
   "cell_type": "code",
   "execution_count": 8,
   "metadata": {},
   "outputs": [
    {
     "data": {
      "text/plain": [
       "(10,)"
      ]
     },
     "execution_count": 8,
     "metadata": {},
     "output_type": "execute_result"
    }
   ],
   "source": [
    "column_level2 = np.array([1990, 2000, 2005, 2010, 2014, 2015, 2016, 2017, 2018, 2019])\n",
    "column_level2.shape\n"
   ]
  },
  {
   "cell_type": "code",
   "execution_count": 9,
   "metadata": {},
   "outputs": [],
   "source": [
    "column_arrays = [column_level1, column_level2]"
   ]
  },
  {
   "cell_type": "code",
   "execution_count": 11,
   "metadata": {},
   "outputs": [],
   "source": [
    "df = pd.DataFrame(clean_data, columns=column_arrays, index=index)\n",
    "df = df.astype(int)"
   ]
  },
  {
   "cell_type": "code",
   "execution_count": 13,
   "metadata": {},
   "outputs": [
    {
     "data": {
      "text/html": [
       "<div>\n",
       "<style scoped>\n",
       "    .dataframe tbody tr th:only-of-type {\n",
       "        vertical-align: middle;\n",
       "    }\n",
       "\n",
       "    .dataframe tbody tr th {\n",
       "        vertical-align: top;\n",
       "    }\n",
       "\n",
       "    .dataframe thead tr th {\n",
       "        text-align: left;\n",
       "    }\n",
       "</style>\n",
       "<table border=\"1\" class=\"dataframe\">\n",
       "  <thead>\n",
       "    <tr>\n",
       "      <th></th>\n",
       "      <th colspan=\"10\" halign=\"left\">Median Household Income by State: Selected years 1990 through 2019</th>\n",
       "    </tr>\n",
       "    <tr>\n",
       "      <th></th>\n",
       "      <th>1990</th>\n",
       "      <th>2000</th>\n",
       "      <th>2005</th>\n",
       "      <th>2010</th>\n",
       "      <th>2014</th>\n",
       "      <th>2015</th>\n",
       "      <th>2016</th>\n",
       "      <th>2017</th>\n",
       "      <th>2018</th>\n",
       "      <th>2019</th>\n",
       "    </tr>\n",
       "  </thead>\n",
       "  <tbody>\n",
       "    <tr>\n",
       "      <th>count</th>\n",
       "      <td>52.000000</td>\n",
       "      <td>52.000000</td>\n",
       "      <td>52.000000</td>\n",
       "      <td>52.000000</td>\n",
       "      <td>52.000000</td>\n",
       "      <td>52.000000</td>\n",
       "      <td>52.000000</td>\n",
       "      <td>52.000000</td>\n",
       "      <td>52.000000</td>\n",
       "      <td>52.000000</td>\n",
       "    </tr>\n",
       "    <tr>\n",
       "      <th>mean</th>\n",
       "      <td>58194.230769</td>\n",
       "      <td>63657.692308</td>\n",
       "      <td>60161.538462</td>\n",
       "      <td>58723.076923</td>\n",
       "      <td>58848.076923</td>\n",
       "      <td>60853.846154</td>\n",
       "      <td>61928.846154</td>\n",
       "      <td>62821.153846</td>\n",
       "      <td>63136.538462</td>\n",
       "      <td>65517.307692</td>\n",
       "    </tr>\n",
       "    <tr>\n",
       "      <th>std</th>\n",
       "      <td>10895.194362</td>\n",
       "      <td>9586.803556</td>\n",
       "      <td>9564.008386</td>\n",
       "      <td>9456.787486</td>\n",
       "      <td>9876.621046</td>\n",
       "      <td>10173.118394</td>\n",
       "      <td>10359.145558</td>\n",
       "      <td>10586.327411</td>\n",
       "      <td>10695.445775</td>\n",
       "      <td>11060.984624</td>\n",
       "    </tr>\n",
       "    <tr>\n",
       "      <th>min</th>\n",
       "      <td>40200.000000</td>\n",
       "      <td>45700.000000</td>\n",
       "      <td>43200.000000</td>\n",
       "      <td>43300.000000</td>\n",
       "      <td>42900.000000</td>\n",
       "      <td>43800.000000</td>\n",
       "      <td>44500.000000</td>\n",
       "      <td>45300.000000</td>\n",
       "      <td>44900.000000</td>\n",
       "      <td>45800.000000</td>\n",
       "    </tr>\n",
       "    <tr>\n",
       "      <th>25%</th>\n",
       "      <td>51525.000000</td>\n",
       "      <td>57250.000000</td>\n",
       "      <td>53700.000000</td>\n",
       "      <td>51850.000000</td>\n",
       "      <td>51625.000000</td>\n",
       "      <td>53375.000000</td>\n",
       "      <td>54875.000000</td>\n",
       "      <td>55525.000000</td>\n",
       "      <td>56450.000000</td>\n",
       "      <td>57550.000000</td>\n",
       "    </tr>\n",
       "    <tr>\n",
       "      <th>50%</th>\n",
       "      <td>57400.000000</td>\n",
       "      <td>62700.000000</td>\n",
       "      <td>58250.000000</td>\n",
       "      <td>57000.000000</td>\n",
       "      <td>56950.000000</td>\n",
       "      <td>59200.000000</td>\n",
       "      <td>60400.000000</td>\n",
       "      <td>61400.000000</td>\n",
       "      <td>61350.000000</td>\n",
       "      <td>63250.000000</td>\n",
       "    </tr>\n",
       "    <tr>\n",
       "      <th>75%</th>\n",
       "      <td>62775.000000</td>\n",
       "      <td>70800.000000</td>\n",
       "      <td>66125.000000</td>\n",
       "      <td>64525.000000</td>\n",
       "      <td>66000.000000</td>\n",
       "      <td>68050.000000</td>\n",
       "      <td>69925.000000</td>\n",
       "      <td>71300.000000</td>\n",
       "      <td>71875.000000</td>\n",
       "      <td>74825.000000</td>\n",
       "    </tr>\n",
       "    <tr>\n",
       "      <th>max</th>\n",
       "      <td>83300.000000</td>\n",
       "      <td>84900.000000</td>\n",
       "      <td>80900.000000</td>\n",
       "      <td>80900.000000</td>\n",
       "      <td>80000.000000</td>\n",
       "      <td>81800.000000</td>\n",
       "      <td>84100.000000</td>\n",
       "      <td>85900.000000</td>\n",
       "      <td>86700.000000</td>\n",
       "      <td>92300.000000</td>\n",
       "    </tr>\n",
       "  </tbody>\n",
       "</table>\n",
       "</div>"
      ],
      "text/plain": [
       "      Median Household Income by State: Selected years 1990 through 2019  \\\n",
       "                                                                    1990   \n",
       "count                                          52.000000                   \n",
       "mean                                        58194.230769                   \n",
       "std                                         10895.194362                   \n",
       "min                                         40200.000000                   \n",
       "25%                                         51525.000000                   \n",
       "50%                                         57400.000000                   \n",
       "75%                                         62775.000000                   \n",
       "max                                         83300.000000                   \n",
       "\n",
       "                                                                             \\\n",
       "               2000          2005          2010          2014          2015   \n",
       "count     52.000000     52.000000     52.000000     52.000000     52.000000   \n",
       "mean   63657.692308  60161.538462  58723.076923  58848.076923  60853.846154   \n",
       "std     9586.803556   9564.008386   9456.787486   9876.621046  10173.118394   \n",
       "min    45700.000000  43200.000000  43300.000000  42900.000000  43800.000000   \n",
       "25%    57250.000000  53700.000000  51850.000000  51625.000000  53375.000000   \n",
       "50%    62700.000000  58250.000000  57000.000000  56950.000000  59200.000000   \n",
       "75%    70800.000000  66125.000000  64525.000000  66000.000000  68050.000000   \n",
       "max    84900.000000  80900.000000  80900.000000  80000.000000  81800.000000   \n",
       "\n",
       "                                                               \n",
       "               2016          2017          2018          2019  \n",
       "count     52.000000     52.000000     52.000000     52.000000  \n",
       "mean   61928.846154  62821.153846  63136.538462  65517.307692  \n",
       "std    10359.145558  10586.327411  10695.445775  11060.984624  \n",
       "min    44500.000000  45300.000000  44900.000000  45800.000000  \n",
       "25%    54875.000000  55525.000000  56450.000000  57550.000000  \n",
       "50%    60400.000000  61400.000000  61350.000000  63250.000000  \n",
       "75%    69925.000000  71300.000000  71875.000000  74825.000000  \n",
       "max    84100.000000  85900.000000  86700.000000  92300.000000  "
      ]
     },
     "execution_count": 13,
     "metadata": {},
     "output_type": "execute_result"
    }
   ],
   "source": [
    "df.describe()"
   ]
  },
  {
   "cell_type": "code",
   "execution_count": null,
   "metadata": {},
   "outputs": [],
   "source": []
  }
 ],
 "metadata": {
  "kernelspec": {
   "display_name": "base",
   "language": "python",
   "name": "python3"
  },
  "language_info": {
   "codemirror_mode": {
    "name": "ipython",
    "version": 3
   },
   "file_extension": ".py",
   "mimetype": "text/x-python",
   "name": "python",
   "nbconvert_exporter": "python",
   "pygments_lexer": "ipython3",
   "version": "3.9.13"
  },
  "orig_nbformat": 4,
  "vscode": {
   "interpreter": {
    "hash": "85dc16358c8135276cea6cc9ec3de3bb48d54befa5bbd5118bc882ec3e06d27f"
   }
  }
 },
 "nbformat": 4,
 "nbformat_minor": 2
}
